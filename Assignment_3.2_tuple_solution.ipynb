{
  "cells": [
    {
      "cell_type": "markdown",
      "source": [
        "# Module 3: Data Structures Assignments\n",
        "## Lesson 3.2: Tuples\n",
        "### Assignment 1: Creating and Accessing Tuples\n",
        "\n",
        "Create a tuple with the first 10 positive integers. Print the tuple.\n"
      ],
      "metadata": {
        "id": "Qjxk2YRC3zHQ"
      },
      "id": "Qjxk2YRC3zHQ"
    },
    {
      "cell_type": "code",
      "source": [
        "numbers = tuple(range(1, 11))\n",
        "print(\"Tuple:\", numbers)"
      ],
      "metadata": {
        "colab": {
          "base_uri": "https://localhost:8080/"
        },
        "id": "43jDRWMh31gi",
        "outputId": "cd91edfb-c644-4fb0-cfb6-44312e62c201"
      },
      "id": "43jDRWMh31gi",
      "execution_count": 1,
      "outputs": [
        {
          "output_type": "stream",
          "name": "stdout",
          "text": [
            "Tuple: (1, 2, 3, 4, 5, 6, 7, 8, 9, 10)\n"
          ]
        }
      ]
    },
    {
      "cell_type": "markdown",
      "source": [
        "\n",
        "### Assignment 2: Accessing Tuple Elements\n",
        "\n",
        "Print the first, middle, and last elements of the tuple created in Assignment 1.\n"
      ],
      "metadata": {
        "id": "F5707E-t34DL"
      },
      "id": "F5707E-t34DL"
    },
    {
      "cell_type": "code",
      "source": [
        "numbers = tuple(range(1, 11))\n",
        "\n",
        "first = numbers[0]\n",
        "middle = numbers[len(numbers) // 2]\n",
        "last = numbers[-1]\n",
        "\n",
        "print(\"First element:\", first)\n",
        "print(\"Middle element:\", middle)\n",
        "print(\"Last element:\", last)\n"
      ],
      "metadata": {
        "colab": {
          "base_uri": "https://localhost:8080/"
        },
        "id": "aPdrcRZY348R",
        "outputId": "a10853f6-b318-4617-b1f0-904ae72390b6"
      },
      "id": "aPdrcRZY348R",
      "execution_count": 2,
      "outputs": [
        {
          "output_type": "stream",
          "name": "stdout",
          "text": [
            "First element: 1\n",
            "Middle element: 6\n",
            "Last element: 10\n"
          ]
        }
      ]
    },
    {
      "cell_type": "markdown",
      "source": [
        "\n",
        "### Assignment 3: Tuple Slicing\n",
        "\n",
        "Print the first three elements, the last three elements, and the elements from index 2 to 5 of the tuple created in Assignment 1.\n"
      ],
      "metadata": {
        "id": "zqgEF0EH37pU"
      },
      "id": "zqgEF0EH37pU"
    },
    {
      "cell_type": "code",
      "source": [
        "numbers = tuple(range(1, 11))\n",
        "\n",
        "first_three = numbers[:3]\n",
        "last_three = numbers[-3:]\n",
        "mid_section = numbers[2:6]\n",
        "\n",
        "print(\"First three elements:\", first_three)\n",
        "print(\"Last three elements:\", last_three)\n",
        "print(\"Elements from index 2 to 5:\", mid_section)\n",
        "\n"
      ],
      "metadata": {
        "colab": {
          "base_uri": "https://localhost:8080/"
        },
        "id": "xvqidE3s38dE",
        "outputId": "69cb58b4-148f-42c6-84d2-9392f686f4f9"
      },
      "id": "xvqidE3s38dE",
      "execution_count": 3,
      "outputs": [
        {
          "output_type": "stream",
          "name": "stdout",
          "text": [
            "First three elements: (1, 2, 3)\n",
            "Last three elements: (8, 9, 10)\n",
            "Elements from index 2 to 5: (3, 4, 5, 6)\n"
          ]
        }
      ]
    },
    {
      "cell_type": "markdown",
      "source": [
        "\n",
        "### Assignment 4: Nested Tuples\n",
        "\n",
        "Create a nested tuple representing a 3x3 matrix and print the matrix. Access and print the element at the second row and third column.\n",
        "\n"
      ],
      "metadata": {
        "id": "TrRpk_fX3_z1"
      },
      "id": "TrRpk_fX3_z1"
    },
    {
      "cell_type": "code",
      "source": [
        "matrix = (\n",
        "    (1, 2, 3),\n",
        "    (4, 5, 6),\n",
        "    (7, 8, 9)\n",
        ")\n",
        "\n",
        "for row in matrix:\n",
        "    print(row)\n",
        "\n",
        "print(\"Element at second row, third column:\", matrix[1][2])\n",
        "\n"
      ],
      "metadata": {
        "colab": {
          "base_uri": "https://localhost:8080/"
        },
        "id": "nwYRUNFm4n6D",
        "outputId": "292c7217-171c-4b85-dd3a-4d40e61c27eb"
      },
      "id": "nwYRUNFm4n6D",
      "execution_count": 4,
      "outputs": [
        {
          "output_type": "stream",
          "name": "stdout",
          "text": [
            "(1, 2, 3)\n",
            "(4, 5, 6)\n",
            "(7, 8, 9)\n",
            "Element at second row, third column: 6\n"
          ]
        }
      ]
    },
    {
      "cell_type": "markdown",
      "source": [
        "### Assignment 5: Tuple Concatenation\n",
        "\n",
        "Concatenate two tuples: (1, 2, 3) and (4, 5, 6). Print the resulting tuple."
      ],
      "metadata": {
        "id": "1z0p90tZ43hR"
      },
      "id": "1z0p90tZ43hR"
    },
    {
      "cell_type": "code",
      "source": [
        "a=(1,2,3)\n",
        "b=(4,5,6)\n",
        "c=a+b\n",
        "print(c)"
      ],
      "metadata": {
        "colab": {
          "base_uri": "https://localhost:8080/"
        },
        "id": "onboO4re44ab",
        "outputId": "4a33839f-a8b3-4417-d787-593566c31ecd"
      },
      "id": "onboO4re44ab",
      "execution_count": 5,
      "outputs": [
        {
          "output_type": "stream",
          "name": "stdout",
          "text": [
            "(1, 2, 3, 4, 5, 6)\n"
          ]
        }
      ]
    },
    {
      "cell_type": "markdown",
      "source": [
        "### Assignment 6: Tuple Methods\n",
        "\n",
        "Create a tuple with duplicate elements and count the occurrences of an element. Find the index of the first occurrence of an element in the tuple.\n"
      ],
      "metadata": {
        "id": "VfEe6uFX47bu"
      },
      "id": "VfEe6uFX47bu"
    },
    {
      "cell_type": "code",
      "source": [
        "data = (4, 7, 2, 7, 9, 7, 3, 4)\n",
        "\n",
        "count_7 = data.count(7)\n",
        "index_7 = data.index(7)\n",
        "\n",
        "print(\"Tuple:\", data)\n",
        "print(\"Occurrences of 7:\", count_7)\n",
        "print(\"Index of first occurrence of 7:\", index_7)\n",
        "\n"
      ],
      "metadata": {
        "colab": {
          "base_uri": "https://localhost:8080/"
        },
        "id": "IcXHmnmZ48Jq",
        "outputId": "25aaaa79-d293-4b03-e3b0-0d0e6d1b0612"
      },
      "id": "IcXHmnmZ48Jq",
      "execution_count": 6,
      "outputs": [
        {
          "output_type": "stream",
          "name": "stdout",
          "text": [
            "Tuple: (4, 7, 2, 7, 9, 7, 3, 4)\n",
            "Occurrences of 7: 3\n",
            "Index of first occurrence of 7: 1\n"
          ]
        }
      ]
    },
    {
      "cell_type": "markdown",
      "source": [
        "\n",
        "### Assignment 7: Unpacking Tuples\n",
        "\n",
        "Create a tuple with 5 elements and unpack it into 5 variables. Print the variables.\n"
      ],
      "metadata": {
        "id": "ysGIf5J34_UQ"
      },
      "id": "ysGIf5J34_UQ"
    },
    {
      "cell_type": "code",
      "source": [
        "t = (30, 20, 40, 50, 60)\n",
        "\n",
        "a, b, c, d, e = t\n",
        "\n",
        "print(a)\n",
        "print(b)\n",
        "print(c)\n",
        "print(d)\n",
        "print(e)\n"
      ],
      "metadata": {
        "colab": {
          "base_uri": "https://localhost:8080/"
        },
        "id": "WNYy-f5y5AVp",
        "outputId": "c5f79cb2-2b6e-4649-d0c4-79ccb7050c34"
      },
      "id": "WNYy-f5y5AVp",
      "execution_count": 7,
      "outputs": [
        {
          "output_type": "stream",
          "name": "stdout",
          "text": [
            "30\n",
            "20\n",
            "40\n",
            "50\n",
            "60\n"
          ]
        }
      ]
    },
    {
      "cell_type": "markdown",
      "source": [
        "\n",
        "### Assignment 8: Tuple Conversion\n",
        "\n",
        "Convert a list of the first 5 positive integers to a tuple. Print the tuple.\n"
      ],
      "metadata": {
        "id": "oF8X0EYI5FId"
      },
      "id": "oF8X0EYI5FId"
    },
    {
      "cell_type": "code",
      "source": [
        "numbers_list = [1, 2, 3, 4, 5]\n",
        "numbers_tuple = tuple(numbers_list)\n",
        "\n",
        "print(\"Tuple:\", numbers_tuple)\n",
        "\n"
      ],
      "metadata": {
        "colab": {
          "base_uri": "https://localhost:8080/"
        },
        "id": "gMVNiqb05F3f",
        "outputId": "e41d5b70-6408-4efc-d979-cfad0579c8e2"
      },
      "id": "gMVNiqb05F3f",
      "execution_count": 9,
      "outputs": [
        {
          "output_type": "stream",
          "name": "stdout",
          "text": [
            "Tuple: (1, 2, 3, 4, 5)\n"
          ]
        }
      ]
    },
    {
      "cell_type": "markdown",
      "source": [
        "\n",
        "### Assignment 9: Tuple of Tuples\n",
        "\n",
        "Create a tuple containing 3 tuples, each with 3 elements. Print the tuple of tuples.\n"
      ],
      "metadata": {
        "id": "ZD_WAUdx5KDz"
      },
      "id": "ZD_WAUdx5KDz"
    },
    {
      "cell_type": "code",
      "source": [
        "nested_tuple = (\n",
        "    (1, 2, 3),\n",
        "    (4, 5, 6),\n",
        "    (7, 8, 9)\n",
        ")\n",
        "\n",
        "print(\"Tuple of tuples:\", nested_tuple)\n",
        "\n"
      ],
      "metadata": {
        "colab": {
          "base_uri": "https://localhost:8080/"
        },
        "id": "7auovHcH5LAb",
        "outputId": "4275c44b-8615-4827-a372-646dd2058fcb"
      },
      "id": "7auovHcH5LAb",
      "execution_count": 10,
      "outputs": [
        {
          "output_type": "stream",
          "name": "stdout",
          "text": [
            "Tuple of tuples: ((1, 2, 3), (4, 5, 6), (7, 8, 9))\n"
          ]
        }
      ]
    },
    {
      "cell_type": "markdown",
      "source": [
        "### Assignment 10: Tuple and List\n",
        "\n",
        "Create a tuple with the first 5 positive integers. Convert it to a list, append the number 6, and convert it back to a tuple. Print the resulting tuple.\n"
      ],
      "metadata": {
        "id": "yy6X2ecq5OCQ"
      },
      "id": "yy6X2ecq5OCQ"
    },
    {
      "cell_type": "code",
      "source": [
        "a = (1, 2, 3, 4, 5)\n",
        "\n",
        "lst = list(a)\n",
        "lst.append(6)\n",
        "t = tuple(lst)\n",
        "\n",
        "print(t)\n"
      ],
      "metadata": {
        "colab": {
          "base_uri": "https://localhost:8080/"
        },
        "id": "xV5kzd3R5PCQ",
        "outputId": "c29486f7-01c6-49b8-c990-c2dc591c3ddb"
      },
      "id": "xV5kzd3R5PCQ",
      "execution_count": 11,
      "outputs": [
        {
          "output_type": "stream",
          "name": "stdout",
          "text": [
            "(1, 2, 3, 4, 5, 6)\n"
          ]
        }
      ]
    },
    {
      "cell_type": "markdown",
      "source": [
        "### Assignment 11: Tuple and String\n",
        "\n",
        "Create a tuple with the characters of a string. Join the tuple elements into a single string. Print the string.\n",
        "\n"
      ],
      "metadata": {
        "id": "t4ItVrEK5SHA"
      },
      "id": "t4ItVrEK5SHA"
    },
    {
      "cell_type": "code",
      "source": [
        "s = \"hello\"\n",
        "\n",
        "a = tuple(s)\n",
        "result = ''.join(a)\n",
        "\n",
        "print(result)\n"
      ],
      "metadata": {
        "colab": {
          "base_uri": "https://localhost:8080/"
        },
        "id": "XA4Kq3FR5S1V",
        "outputId": "816dac50-d800-4945-c41a-355ad5d08259"
      },
      "id": "XA4Kq3FR5S1V",
      "execution_count": 16,
      "outputs": [
        {
          "output_type": "stream",
          "name": "stdout",
          "text": [
            "hello\n"
          ]
        }
      ]
    },
    {
      "cell_type": "markdown",
      "source": [
        "### Assignment 12: Tuple and Dictionary\n",
        "\n",
        "Create a dictionary with tuple keys and integer values. Print the dictionary.\n",
        "\n"
      ],
      "metadata": {
        "id": "BqXoumu05Veh"
      },
      "id": "BqXoumu05Veh"
    },
    {
      "cell_type": "code",
      "source": [
        "a = {\n",
        "    (1, 2): 10,\n",
        "    (3, 4): 20,\n",
        "    (5, 6): 30\n",
        "}\n",
        "\n",
        "print(d)\n"
      ],
      "metadata": {
        "colab": {
          "base_uri": "https://localhost:8080/"
        },
        "id": "WRVjE4NH5WWc",
        "outputId": "d75141d8-e597-4aad-ea18-76c5792d8780"
      },
      "id": "WRVjE4NH5WWc",
      "execution_count": 15,
      "outputs": [
        {
          "output_type": "stream",
          "name": "stdout",
          "text": [
            "50\n"
          ]
        }
      ]
    },
    {
      "cell_type": "markdown",
      "source": [
        "### Assignment 13: Nested Tuple Iteration\n",
        "\n",
        "Create a nested tuple and iterate over the elements, printing each element.\n",
        "\n"
      ],
      "metadata": {
        "id": "5JA1O87D5ZNG"
      },
      "id": "5JA1O87D5ZNG"
    },
    {
      "cell_type": "code",
      "source": [
        "a = (\n",
        "    (2, 5, 6),\n",
        "    (4, 5, 8),\n",
        "    (7, 8, 9)\n",
        ")\n",
        "\n",
        "for row in a:\n",
        "    for item in row:\n",
        "        print(item)\n"
      ],
      "metadata": {
        "colab": {
          "base_uri": "https://localhost:8080/"
        },
        "id": "hhxlPDTa5aCO",
        "outputId": "2e2e1a68-8660-4beb-cc71-d442a306652e"
      },
      "id": "hhxlPDTa5aCO",
      "execution_count": 14,
      "outputs": [
        {
          "output_type": "stream",
          "name": "stdout",
          "text": [
            "2\n",
            "5\n",
            "6\n",
            "4\n",
            "5\n",
            "8\n",
            "7\n",
            "8\n",
            "9\n"
          ]
        }
      ]
    },
    {
      "cell_type": "markdown",
      "source": [
        "### Assignment 14: Tuple and Set\n",
        "\n",
        "Create a tuple with duplicate elements. Convert it to a set to remove duplicates and print the resulting set.\n",
        "\n"
      ],
      "metadata": {
        "id": "oV34-sRi5dRl"
      },
      "id": "oV34-sRi5dRl"
    },
    {
      "cell_type": "code",
      "source": [
        "a = (1, 2, 2, 3, 4, 4, 5)\n",
        "\n",
        "s = set(a)\n",
        "\n",
        "print(s)\n"
      ],
      "metadata": {
        "colab": {
          "base_uri": "https://localhost:8080/"
        },
        "id": "GKD99ybA5eWg",
        "outputId": "1fb547dc-91df-4c4f-9336-9caea383611d"
      },
      "id": "GKD99ybA5eWg",
      "execution_count": 13,
      "outputs": [
        {
          "output_type": "stream",
          "name": "stdout",
          "text": [
            "{1, 2, 3, 4, 5}\n"
          ]
        }
      ]
    },
    {
      "cell_type": "markdown",
      "id": "6cade624",
      "metadata": {
        "id": "6cade624"
      },
      "source": [
        "### Assignment 15: Tuple Functions\n",
        "\n",
        "Write functions that take a tuple and return the minimum, maximum, and sum of the elements. Print the results for a sample tuple."
      ]
    },
    {
      "cell_type": "code",
      "execution_count": 12,
      "metadata": {
        "colab": {
          "base_uri": "https://localhost:8080/"
        },
        "id": "TSFwsx5b3jLJ",
        "outputId": "be42cc79-dc56-4955-b425-caf486476656"
      },
      "outputs": [
        {
          "output_type": "stream",
          "name": "stdout",
          "text": [
            "Tuple: (5, 12, 3, 8, 7)\n",
            "Minimum: 3\n",
            "Maximum: 12\n",
            "Sum: 35\n"
          ]
        }
      ],
      "source": [
        "def get_min(t):\n",
        "    return min(t)\n",
        "\n",
        "def get_max(t):\n",
        "    return max(t)\n",
        "\n",
        "def get_sum(t):\n",
        "    return sum(t)\n",
        "\n",
        "sample_tuple = (5, 12, 3, 8, 7)\n",
        "\n",
        "print(\"Tuple:\", sample_tuple)\n",
        "print(\"Minimum:\", get_min(sample_tuple))\n",
        "print(\"Maximum:\", get_max(sample_tuple))\n",
        "print(\"Sum:\", get_sum(sample_tuple))\n",
        "\n"
      ],
      "id": "TSFwsx5b3jLJ"
    }
  ],
  "metadata": {
    "kernelspec": {
      "display_name": "Python 3",
      "language": "python",
      "name": "python3"
    },
    "language_info": {
      "codemirror_mode": {
        "name": "ipython",
        "version": 3
      },
      "file_extension": ".py",
      "mimetype": "text/x-python",
      "name": "python",
      "nbconvert_exporter": "python",
      "pygments_lexer": "ipython3",
      "version": "3.9.7"
    },
    "colab": {
      "provenance": []
    }
  },
  "nbformat": 4,
  "nbformat_minor": 5
}