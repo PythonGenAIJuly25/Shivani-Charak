{
  "cells": [
    {
      "cell_type": "markdown",
      "metadata": {
        "id": "tSNlgLiOg5oU"
      },
      "source": [
        "# Python Basics\n",
        "## Topics Covered:\n",
        "- Syntax and Semantics\n",
        "- Variables and Data Types\n",
        "- Basic Operators (Arithmetic, Comparison, Logical)\n"
      ]
    },
    {
      "cell_type": "markdown",
      "metadata": {
        "id": "S0A3IazOg5ob"
      },
      "source": [
        "## 1. Syntax and Semantics\n",
        "\n",
        "**Question 1:** Write a Python program to print \"Hello, World!\"."
      ]
    },
    {
      "cell_type": "code",
      "execution_count": 1,
      "metadata": {
        "id": "c9DB3DPag5od",
        "outputId": "5f925914-8eda-4789-d85b-5de808bff759",
        "colab": {
          "base_uri": "https://localhost:8080/"
        }
      },
      "outputs": [
        {
          "output_type": "stream",
          "name": "stdout",
          "text": [
            "Hello, World!\n"
          ]
        }
      ],
      "source": [
        "\n",
        "print (\"Hello, World!\")"
      ]
    },
    {
      "cell_type": "markdown",
      "metadata": {
        "id": "tjqoVsiLg5oh"
      },
      "source": [
        "**Question 2:** Write a Python program that takes a user input and prints it."
      ]
    },
    {
      "cell_type": "code",
      "execution_count": 2,
      "metadata": {
        "id": "l5Fu-0q9g5oi",
        "outputId": "b4009a4e-1420-4cdf-b827-366aa755c0ee",
        "colab": {
          "base_uri": "https://localhost:8080/"
        }
      },
      "outputs": [
        {
          "output_type": "stream",
          "name": "stdout",
          "text": [
            "enter a num:9\n",
            "9\n"
          ]
        }
      ],
      "source": [
        "p=input(\"enter a num:\")\n",
        "print ()"
      ]
    },
    {
      "cell_type": "markdown",
      "metadata": {
        "id": "wdOwVAqNg5ok"
      },
      "source": [
        "**Question 3:** Write a Python program to check if a number is positive, negative, or zero."
      ]
    },
    {
      "cell_type": "code",
      "execution_count": null,
      "metadata": {
        "id": "NJrdJWiQg5ol",
        "outputId": "bb3ce4b7-4177-4831-e128-b3fed1e2283a",
        "colab": {
          "base_uri": "https://localhost:8080/"
        }
      },
      "outputs": [
        {
          "output_type": "stream",
          "name": "stdout",
          "text": [
            "Enter a number: 10\n",
            "Positive\n"
          ]
        }
      ],
      "source": [
        "# Your code here\n",
        "num = float(input(\"Enter a number: \"))  # taking input and converting it to float\n",
        "\n",
        "if num < 0:\n",
        "    print(\"Negative\")\n",
        "elif num == 0:\n",
        "    print(\"Zero\")\n",
        "else:\n",
        "    print(\"Positive\")"
      ]
    },
    {
      "cell_type": "markdown",
      "metadata": {
        "id": "UzJvb21jg5oo"
      },
      "source": [
        "**Question 4:** Write a Python program to find the largest of three numbers."
      ]
    },
    {
      "cell_type": "code",
      "execution_count": 3,
      "metadata": {
        "id": "xUIy92cag5oq",
        "outputId": "6eebefaf-f996-41e6-f692-733c0538f1ab",
        "colab": {
          "base_uri": "https://localhost:8080/"
        }
      },
      "outputs": [
        {
          "output_type": "stream",
          "name": "stdout",
          "text": [
            "Enter Ist number: 6\n",
            "Enter 2nd number: 4\n",
            "Enter 3rd number: 2\n",
            "The largest number is: 6.0\n"
          ]
        }
      ],
      "source": [
        "a = float(input(\"Enter Ist number: \"))\n",
        "b = float(input(\"Enter 2nd number: \"))\n",
        "c = float(input(\"Enter 3rd number: \"))\n",
        "\n",
        "if a >= b and a >= c:\n",
        "    print(\"The largest number is:\", a)\n",
        "elif b >= a and b >= c:\n",
        "    print(\"The largest number is:\", b)\n",
        "else:\n",
        "    print(\"The largest number is:\", c)"
      ]
    },
    {
      "cell_type": "markdown",
      "metadata": {
        "id": "fNbpYwdHg5or"
      },
      "source": [
        "**Question 5:** Write a Python program to calculate the factorial of a number."
      ]
    },
    {
      "cell_type": "code",
      "execution_count": 5,
      "metadata": {
        "id": "CYUmsG7ig5ot",
        "outputId": "6ce94188-6eb0-4527-b398-289ac5cde52f",
        "colab": {
          "base_uri": "https://localhost:8080/"
        }
      },
      "outputs": [
        {
          "output_type": "stream",
          "name": "stdout",
          "text": [
            "Enter a number to find its factorial: 4\n",
            "Factorial of 4 is: 24\n"
          ]
        }
      ],
      "source": [
        "def find_factorial(number):\n",
        "    if number < 0:\n",
        "        return \"Cannot find factorial of a negative number.\"\n",
        "    fact = 1\n",
        "    for n in range(1, number + 1):\n",
        "        fact = fact * n\n",
        "    return fact\n",
        "user_input = int(input(\"Enter a number to find its factorial: \"))\n",
        "output = find_factorial(user_input)\n",
        "print(f\"Factorial of {user_input} is: {output}\")"
      ]
    },
    {
      "cell_type": "markdown",
      "metadata": {
        "id": "IQwAqvWXg5ou"
      },
      "source": [
        "## 2. Variables and Data Types\n",
        "\n",
        "**Question 6:** Create variables of different data types: integer, float, string, and boolean. Print their values and types."
      ]
    },
    {
      "cell_type": "code",
      "execution_count": 6,
      "metadata": {
        "id": "7JUmxRsag5ov",
        "outputId": "00d27f3b-3e34-48a0-ecb1-a79ddb9e8d76",
        "colab": {
          "base_uri": "https://localhost:8080/"
        }
      },
      "outputs": [
        {
          "output_type": "stream",
          "name": "stdout",
          "text": [
            "my_number = 42 | type: <class 'int'>\n",
            "pi_value = 3.14 | type: <class 'float'>\n",
            "greeting = Hello World | type: <class 'str'>\n",
            "has_access = False | type: <class 'bool'>\n"
          ]
        }
      ],
      "source": [
        "my_number = 42\n",
        "pi_value = 3.14\n",
        "greeting = \"Hello World\"\n",
        "has_access = False\n",
        "\n",
        "print(\"my_number =\", my_number, \"| type:\", type(my_number))\n",
        "print(\"pi_value =\", pi_value, \"| type:\", type(pi_value))\n",
        "print(\"greeting =\", greeting, \"| type:\", type(greeting))\n",
        "print(\"has_access =\", has_access, \"| type:\", type(has_access))"
      ]
    },
    {
      "cell_type": "markdown",
      "metadata": {
        "id": "vJ2KwbROg5ow"
      },
      "source": [
        "**Question 7:** Write a Python program to swap the values of two variables."
      ]
    },
    {
      "cell_type": "code",
      "execution_count": 7,
      "metadata": {
        "id": "f1-bRw0ig5ox",
        "outputId": "c36a7778-3579-479a-b247-aa5906327540",
        "colab": {
          "base_uri": "https://localhost:8080/"
        }
      },
      "outputs": [
        {
          "output_type": "stream",
          "name": "stdout",
          "text": [
            "20\n",
            "10\n"
          ]
        }
      ],
      "source": [
        "\n",
        "a=10\n",
        "b=20\n",
        "a=a+b\n",
        "b=a-b\n",
        "a=a-b\n",
        "print (a)\n",
        "print(b)"
      ]
    },
    {
      "cell_type": "markdown",
      "metadata": {
        "id": "u16rtUJGg5oy"
      },
      "source": [
        "**Question 8:** Write a Python program to convert Celsius to Fahrenheit."
      ]
    },
    {
      "cell_type": "code",
      "execution_count": 8,
      "metadata": {
        "id": "b7mwaTt8g5oy",
        "colab": {
          "base_uri": "https://localhost:8080/"
        },
        "outputId": "05270d17-0dc6-4100-c8c7-dc5462b68d7a"
      },
      "outputs": [
        {
          "output_type": "stream",
          "name": "stdout",
          "text": [
            "Enter temperature in Celsius: 24\n",
            "24.0 Celsius = 75.2 Fahrenheit\n"
          ]
        }
      ],
      "source": [
        "celsius = float(input(\"Enter temperature in Celsius: \"))\n",
        "fahrenheit = (celsius * 9 / 5) + 32\n",
        "print(f\"{celsius} Celsius = {fahrenheit} Fahrenheit\")"
      ]
    },
    {
      "cell_type": "markdown",
      "metadata": {
        "id": "APVSsKD2g5oz"
      },
      "source": [
        "**Question 9:** Write a Python program to concatenate two strings."
      ]
    },
    {
      "cell_type": "code",
      "execution_count": 9,
      "metadata": {
        "id": "LUoxw_Ssg5o0",
        "outputId": "4f0f8522-d453-47ad-ac20-46861b5b396e",
        "colab": {
          "base_uri": "https://localhost:8080/"
        }
      },
      "outputs": [
        {
          "output_type": "stream",
          "name": "stdout",
          "text": [
            "Shivani: Charak\n",
            "Charak: Rajput\n",
            "Concatenated string: CharakRajput\n"
          ]
        }
      ],
      "source": [
        "first = input(\"Shivani: \")\n",
        "second = input(\"Charak: \")\n",
        "combined = first + second\n",
        "print(\"Concatenated string:\", combined)"
      ]
    },
    {
      "cell_type": "markdown",
      "metadata": {
        "id": "9uiGhs9zg5o1"
      },
      "source": [
        "**Question 10:** Write a Python program to check if a variable is of a specific data type."
      ]
    },
    {
      "cell_type": "code",
      "execution_count": 10,
      "metadata": {
        "id": "sBaCX4VMg5o1",
        "outputId": "07ddb332-a292-4d36-95ad-c4fb25f77af0",
        "colab": {
          "base_uri": "https://localhost:8080/"
        }
      },
      "outputs": [
        {
          "output_type": "stream",
          "name": "stdout",
          "text": [
            "x is an integer\n"
          ]
        }
      ],
      "source": [
        "\n",
        "x = 54\n",
        "\n",
        "if isinstance(x, int):\n",
        "    print(\"x is an integer\")\n",
        "elif isinstance(x, float):\n",
        "    print(\"x is a float\")\n",
        "elif isinstance(x, str):\n",
        "    print(\"x is a string\")\n",
        "elif isinstance(x, bool):\n",
        "    print(\"x is a boolean\")\n",
        "else:\n",
        "    print(\"x is of some other type\")"
      ]
    },
    {
      "cell_type": "markdown",
      "metadata": {
        "id": "9I3h6fhcg5o2"
      },
      "source": [
        "## 3. Basic Operators (Arithmetic, Comparison, Logical)\n",
        "\n",
        "**Question 11:** Write a Python program to perform arithmetic operations: addition, subtraction, multiplication, and division."
      ]
    },
    {
      "cell_type": "code",
      "execution_count": 11,
      "metadata": {
        "id": "X1guxsEeg5o3",
        "outputId": "33cda6a7-d7bb-48c2-aacd-bb600a36d1f9",
        "colab": {
          "base_uri": "https://localhost:8080/"
        }
      },
      "outputs": [
        {
          "output_type": "stream",
          "name": "stdout",
          "text": [
            "Addition: 52\n",
            "Subtraction: 48\n",
            "Multiplication: 100\n",
            "Division: 25.0\n"
          ]
        }
      ],
      "source": [
        "a = 50\n",
        "b = 2\n",
        "\n",
        "print(\"Addition:\", a + b)\n",
        "print(\"Subtraction:\", a - b)\n",
        "print(\"Multiplication:\", a * b)\n",
        "print(\"Division:\", a / b)"
      ]
    },
    {
      "cell_type": "markdown",
      "metadata": {
        "id": "egtndKwYg5o3"
      },
      "source": [
        "**Question 12:** Write a Python program to demonstrate comparison operators: equal to, not equal to, greater than, less than."
      ]
    },
    {
      "cell_type": "code",
      "execution_count": 12,
      "metadata": {
        "id": "nRWBQbGYg5o4",
        "outputId": "04410d10-51c4-47a5-b90a-6f3294418677",
        "colab": {
          "base_uri": "https://localhost:8080/"
        }
      },
      "outputs": [
        {
          "output_type": "stream",
          "name": "stdout",
          "text": [
            "Equal to: False\n",
            "Not equal to: True\n",
            "Greater than: False\n",
            "Less than: True\n"
          ]
        }
      ],
      "source": [
        "# Your code here\n",
        "a = 7\n",
        "b = 12\n",
        "\n",
        "print(\"Equal to:\", a == b)\n",
        "print(\"Not equal to:\", a != b)\n",
        "print(\"Greater than:\", a > b)\n",
        "print(\"Less than:\", a < b)"
      ]
    },
    {
      "cell_type": "markdown",
      "metadata": {
        "id": "irQx2_yeg5o5"
      },
      "source": [
        "**Question 13:** Write a Python program to demonstrate logical operators: and, or, not."
      ]
    },
    {
      "cell_type": "code",
      "execution_count": 13,
      "metadata": {
        "id": "wpUaitoSg5o5",
        "outputId": "c93b8411-4563-4251-9eea-c5a96c43ef08",
        "colab": {
          "base_uri": "https://localhost:8080/"
        }
      },
      "outputs": [
        {
          "output_type": "stream",
          "name": "stdout",
          "text": [
            "x and y: False\n",
            "x or y: True\n",
            "not x: True\n"
          ]
        }
      ],
      "source": [
        "# Your code here\n",
        "x = False\n",
        "y = True\n",
        "\n",
        "print(\"x and y:\", x and y)\n",
        "print(\"x or y:\", x or y)\n",
        "print(\"not x:\", not x)"
      ]
    },
    {
      "cell_type": "markdown",
      "metadata": {
        "id": "nUApU9Vug5o6"
      },
      "source": [
        "**Question 14:** Write a Python program to calculate the square of a number."
      ]
    },
    {
      "cell_type": "code",
      "execution_count": 14,
      "metadata": {
        "id": "2a0tZSFCg5o6",
        "outputId": "124a80c6-1fe5-43a2-ca07-11441b183a4e",
        "colab": {
          "base_uri": "https://localhost:8080/"
        }
      },
      "outputs": [
        {
          "output_type": "stream",
          "name": "stdout",
          "text": [
            "Enter a number: 6\n",
            "Square of the number is: 1296.0\n"
          ]
        }
      ],
      "source": [
        "\n",
        "num = float(input(\"Enter a number: \"))\n",
        "square = num ** 4\n",
        "print(\"Square of the number is:\", square)"
      ]
    },
    {
      "cell_type": "markdown",
      "metadata": {
        "id": "yUsezYadg5o7"
      },
      "source": [
        "**Question 15:** Write a Python program to check if a number is even or odd."
      ]
    },
    {
      "cell_type": "code",
      "execution_count": 15,
      "metadata": {
        "id": "oXD8Kuflg5o7",
        "outputId": "c8a48d4e-6513-44cb-d7b9-892edf0e6f37",
        "colab": {
          "base_uri": "https://localhost:8080/"
        }
      },
      "outputs": [
        {
          "output_type": "stream",
          "name": "stdout",
          "text": [
            "Enter a number: 6\n",
            "6 is even\n"
          ]
        }
      ],
      "source": [
        "num = int(input(\"Enter a number: \"))\n",
        "if num % 2 == 0:\n",
        "    print(num, \"is even\")\n",
        "else:\n",
        "    print(num, \"is odd\")"
      ]
    },
    {
      "cell_type": "markdown",
      "metadata": {
        "id": "E_ChMaWhg5o7"
      },
      "source": [
        "**Question 16:** Write a Python program to find the sum of the first n natural numbers."
      ]
    },
    {
      "cell_type": "code",
      "execution_count": 16,
      "metadata": {
        "id": "Jo1AOz1Qg5o8",
        "outputId": "373b7f39-b06c-45fe-cddd-bf70562912bf",
        "colab": {
          "base_uri": "https://localhost:8080/"
        }
      },
      "outputs": [
        {
          "output_type": "stream",
          "name": "stdout",
          "text": [
            "Enter a positive number: 6\n",
            "Sum of first 6 natural numbers is: 21\n"
          ]
        }
      ],
      "source": [
        "n = int(input(\"Enter a positive number: \"))\n",
        "total = n * (n + 1) // 2\n",
        "print(\"Sum of first\", n, \"natural numbers is:\", total)"
      ]
    },
    {
      "cell_type": "markdown",
      "metadata": {
        "id": "-DxoZZ0og5o8"
      },
      "source": [
        "**Question 17:** Write a Python program to check if a year is a leap year."
      ]
    },
    {
      "cell_type": "code",
      "execution_count": 17,
      "metadata": {
        "id": "IzB4v0fyg5o9",
        "outputId": "8a53325e-7968-4d53-b39b-01643b0a6d57",
        "colab": {
          "base_uri": "https://localhost:8080/"
        }
      },
      "outputs": [
        {
          "output_type": "stream",
          "name": "stdout",
          "text": [
            "Enter a year: 2024\n",
            "2024 is a leap year\n"
          ]
        }
      ],
      "source": [
        "\n",
        "year = int(input(\"Enter a year: \"))\n",
        "\n",
        "if (year % 4 == 0 and year % 100 != 0) or (year % 400 == 0):\n",
        "    print(year, \"is a leap year\")\n",
        "else:\n",
        "    print(year, \"is not a leap year\")"
      ]
    },
    {
      "cell_type": "markdown",
      "metadata": {
        "id": "Grkyq2wLg5o9"
      },
      "source": [
        "**Question 18:** Write a Python program to reverse a string."
      ]
    },
    {
      "cell_type": "code",
      "execution_count": 18,
      "metadata": {
        "id": "pb818ihYg5o-",
        "outputId": "9de3d9ac-b869-44a4-9feb-b76ff59ab4d6",
        "colab": {
          "base_uri": "https://localhost:8080/"
        }
      },
      "outputs": [
        {
          "output_type": "stream",
          "name": "stdout",
          "text": [
            "Enter a string: Shivani\n",
            "Reversed string is: inavihS\n"
          ]
        }
      ],
      "source": [
        "text = input(\"Enter a string: \")\n",
        "reversed_text = text[::-1]\n",
        "print(\"Reversed string is:\", reversed_text)"
      ]
    },
    {
      "cell_type": "markdown",
      "metadata": {
        "id": "FtXzBdCkg5o-"
      },
      "source": [
        "**Question 19:** Write a Python program to check if a string is a palindrome."
      ]
    },
    {
      "cell_type": "code",
      "execution_count": 19,
      "metadata": {
        "id": "oa3r_rJzg5o-",
        "outputId": "73bf032e-4f85-41cb-a22a-cd6c59d9a12a",
        "colab": {
          "base_uri": "https://localhost:8080/"
        }
      },
      "outputs": [
        {
          "output_type": "stream",
          "name": "stdout",
          "text": [
            "Enter a string: 5\n",
            "The string is a palindrome\n"
          ]
        }
      ],
      "source": [
        "\n",
        "text = input(\"Enter a string: \")\n",
        "if text == text[::-1]:\n",
        "    print(\"The string is a palindrome\")\n",
        "else:\n",
        "    print(\"The string is not a palindrome\")"
      ]
    },
    {
      "cell_type": "markdown",
      "metadata": {
        "id": "TGvdQLHNg5pL"
      },
      "source": [
        "**Question 20:** Write a Python program to sort a list of numbers in ascending order."
      ]
    },
    {
      "cell_type": "code",
      "execution_count": 20,
      "metadata": {
        "id": "lOJNnPqeg5pL",
        "outputId": "f48f615f-989a-4574-d2d8-a18b56563774",
        "colab": {
          "base_uri": "https://localhost:8080/"
        }
      },
      "outputs": [
        {
          "output_type": "stream",
          "name": "stdout",
          "text": [
            "Enter numbers separated by space: 245\n",
            "Sorted list in ascending order: [245]\n"
          ]
        }
      ],
      "source": [
        "\n",
        "numbers = list(map(int, input(\"Enter numbers separated by space: \").split()))\n",
        "numbers.sort()\n",
        "print(\"Sorted list in ascending order:\", numbers)"
      ]
    }
  ],
  "metadata": {
    "kernelspec": {
      "display_name": "Python 3",
      "language": "python",
      "name": "python3"
    },
    "language_info": {
      "codemirror_mode": {
        "name": "ipython",
        "version": 3
      },
      "file_extension": ".py",
      "mimetype": "text/x-python",
      "name": "python",
      "nbconvert_exporter": "python",
      "pygments_lexer": "ipython3",
      "version": "3.8.5"
    },
    "colab": {
      "provenance": []
    }
  },
  "nbformat": 4,
  "nbformat_minor": 0
}