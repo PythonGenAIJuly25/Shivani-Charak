{
  "cells": [
    {
      "cell_type": "markdown",
      "source": [
        "# Module 3: Data Structures Assignments\n",
        "## Lesson 3.4: Dictionaries\n",
        "### Assignment 1: Creating and Accessing Dictionaries\n",
        "\n",
        "Create a dictionary with the first 10 positive integers as keys and their squares as values. Print the dictionary.\n",
        "\n"
      ],
      "metadata": {
        "id": "6fo_-uiVLqzw"
      },
      "id": "6fo_-uiVLqzw"
    },
    {
      "cell_type": "code",
      "source": [
        "squares_dict = {x: x**2 for x in range(1, 11)}\n",
        "print(\"Dictionary of squares:\", squares_dict)\n",
        "\n"
      ],
      "metadata": {
        "colab": {
          "base_uri": "https://localhost:8080/"
        },
        "id": "Tp-6byHgLsnN",
        "outputId": "e709fe2d-02d6-4c52-882e-61e3bcff1d23"
      },
      "id": "Tp-6byHgLsnN",
      "execution_count": 1,
      "outputs": [
        {
          "output_type": "stream",
          "name": "stdout",
          "text": [
            "Dictionary of squares: {1: 1, 2: 4, 3: 9, 4: 16, 5: 25, 6: 36, 7: 49, 8: 64, 9: 81, 10: 100}\n"
          ]
        }
      ]
    },
    {
      "cell_type": "markdown",
      "source": [
        "### Assignment 2: Accessing Dictionary Elements\n",
        "\n",
        "Print the value of the key 5 and the keys of the dictionary created in Assignment 1.\n",
        "\n"
      ],
      "metadata": {
        "id": "QkFl9j4qLvdT"
      },
      "id": "QkFl9j4qLvdT"
    },
    {
      "cell_type": "code",
      "source": [
        "squares_dict = {x: x**2 for x in range(1, 11)}\n",
        "\n",
        "value_of_5 = squares_dict[5]\n",
        "all_keys = squares_dict.keys()\n",
        "\n",
        "print(\"Value of key 5:\", value_of_5)\n",
        "print(\"Keys in the dictionary:\", list(all_keys))\n",
        "\n"
      ],
      "metadata": {
        "colab": {
          "base_uri": "https://localhost:8080/"
        },
        "id": "WXPmy-ivLwi5",
        "outputId": "f7586393-04e6-4e12-b496-33bf90acfd03"
      },
      "id": "WXPmy-ivLwi5",
      "execution_count": 2,
      "outputs": [
        {
          "output_type": "stream",
          "name": "stdout",
          "text": [
            "Value of key 5: 25\n",
            "Keys in the dictionary: [1, 2, 3, 4, 5, 6, 7, 8, 9, 10]\n"
          ]
        }
      ]
    },
    {
      "cell_type": "markdown",
      "source": [
        "### Assignment 3: Dictionary Methods\n",
        "\n",
        "Add a new key-value pair (11, 121) to the dictionary created in Assignment 1 and then remove the key-value pair with key 1. Print the modified dictionary.\n",
        "\n"
      ],
      "metadata": {
        "id": "jpPK-fygL2rk"
      },
      "id": "jpPK-fygL2rk"
    },
    {
      "cell_type": "code",
      "source": [
        "squares_dict = {x: x**2 for x in range(1, 11)}\n",
        "\n",
        "squares_dict[11] = 121\n",
        "squares_dict.pop(1)\n",
        "\n",
        "print(\"Modified dictionary:\", squares_dict)\n",
        "\n"
      ],
      "metadata": {
        "colab": {
          "base_uri": "https://localhost:8080/"
        },
        "id": "1NVGexnUL3-2",
        "outputId": "f5327ee5-a251-4e8c-c6e6-1793944b396a"
      },
      "id": "1NVGexnUL3-2",
      "execution_count": 3,
      "outputs": [
        {
          "output_type": "stream",
          "name": "stdout",
          "text": [
            "Modified dictionary: {2: 4, 3: 9, 4: 16, 5: 25, 6: 36, 7: 49, 8: 64, 9: 81, 10: 100, 11: 121}\n"
          ]
        }
      ]
    },
    {
      "cell_type": "markdown",
      "source": [
        "### Assignment 4: Iterating Over Dictionaries\n",
        "\n",
        "Iterate over the dictionary created in Assignment 1 and print each key-value pair.\n",
        "\n"
      ],
      "metadata": {
        "id": "c2pzJoifMoZS"
      },
      "id": "c2pzJoifMoZS"
    },
    {
      "cell_type": "code",
      "source": [
        "squares_dict = {x: x**2 for x in range(1, 11)}\n",
        "\n",
        "for key, value in squares_dict.items():\n",
        "    print(\"Key:\", key, \"Value:\", value)\n",
        "\n"
      ],
      "metadata": {
        "id": "UFORs9RWMpbe",
        "colab": {
          "base_uri": "https://localhost:8080/"
        },
        "outputId": "4181e333-4644-4468-d71d-597dea9cd51b"
      },
      "id": "UFORs9RWMpbe",
      "execution_count": 4,
      "outputs": [
        {
          "output_type": "stream",
          "name": "stdout",
          "text": [
            "Key: 1 Value: 1\n",
            "Key: 2 Value: 4\n",
            "Key: 3 Value: 9\n",
            "Key: 4 Value: 16\n",
            "Key: 5 Value: 25\n",
            "Key: 6 Value: 36\n",
            "Key: 7 Value: 49\n",
            "Key: 8 Value: 64\n",
            "Key: 9 Value: 81\n",
            "Key: 10 Value: 100\n"
          ]
        }
      ]
    },
    {
      "cell_type": "markdown",
      "source": [
        "### Assignment 5: Dictionary Comprehensions\n",
        "\n",
        "Create a new dictionary containing the cubes of the first 10 positive integers using a dictionary comprehension. Print the new dictionary.\n",
        "\n"
      ],
      "metadata": {
        "id": "qodwWDJZMzOo"
      },
      "id": "qodwWDJZMzOo"
    },
    {
      "cell_type": "code",
      "source": [
        "cubes_dict = {x: x**3 for x in range(1, 11)}\n",
        "print(\"Dictionary of cubes:\", cubes_dict)\n",
        "\n"
      ],
      "metadata": {
        "colab": {
          "base_uri": "https://localhost:8080/"
        },
        "id": "PW93kfYtM0AS",
        "outputId": "d4c83fca-5a0d-4a9f-c664-aa12787a93da"
      },
      "id": "PW93kfYtM0AS",
      "execution_count": 5,
      "outputs": [
        {
          "output_type": "stream",
          "name": "stdout",
          "text": [
            "Dictionary of cubes: {1: 1, 2: 8, 3: 27, 4: 64, 5: 125, 6: 216, 7: 343, 8: 512, 9: 729, 10: 1000}\n"
          ]
        }
      ]
    },
    {
      "cell_type": "markdown",
      "source": [
        "### Assignment 6: Merging Dictionaries\n",
        "\n",
        "Create two dictionaries: one with keys as the first 5 positive integers and values as their squares, and another with keys as the next 5 positive integers and values as their squares. Merge these dictionaries into a single dictionary and print it.\n",
        "\n"
      ],
      "metadata": {
        "id": "yKQzKa3MM-cS"
      },
      "id": "yKQzKa3MM-cS"
    },
    {
      "cell_type": "code",
      "source": [
        "dict1 = {x: x**2 for x in range(1, 6)}\n",
        "dict2 = {x: x**2 for x in range(6, 11)}\n",
        "\n",
        "merged_dict = {**dict1, **dict2}\n",
        "\n",
        "print(\"Merged dictionary:\", merged_dict)\n",
        "\n"
      ],
      "metadata": {
        "colab": {
          "base_uri": "https://localhost:8080/"
        },
        "id": "kfHtPLYzM_ar",
        "outputId": "b8dec527-fbf2-4318-c365-8a21530a7818"
      },
      "id": "kfHtPLYzM_ar",
      "execution_count": 6,
      "outputs": [
        {
          "output_type": "stream",
          "name": "stdout",
          "text": [
            "Merged dictionary: {1: 1, 2: 4, 3: 9, 4: 16, 5: 25, 6: 36, 7: 49, 8: 64, 9: 81, 10: 100}\n"
          ]
        }
      ]
    },
    {
      "cell_type": "markdown",
      "source": [
        "### Assignment 7: Nested Dictionaries\n",
        "\n",
        "Create a nested dictionary representing a student with keys 'name', 'age', 'grades', where 'grades' is another dictionary with keys 'math', 'science', and 'english'. Print the nested dictionary.\n",
        "\n",
        "\n"
      ],
      "metadata": {
        "id": "kBwHaH7xNNOy"
      },
      "id": "kBwHaH7xNNOy"
    },
    {
      "cell_type": "code",
      "source": [
        "student = {\n",
        "    'name': 'Shivani',\n",
        "    'age': 22,\n",
        "    'grades': {\n",
        "        'math': 99,\n",
        "        'science': 89,\n",
        "        'english': 78\n",
        "    }\n",
        "}\n",
        "\n",
        "print(student)\n"
      ],
      "metadata": {
        "colab": {
          "base_uri": "https://localhost:8080/"
        },
        "id": "zRmdV9EINOLy",
        "outputId": "50ea014f-4b5a-4b8e-86a8-85a2b1862cc5"
      },
      "id": "zRmdV9EINOLy",
      "execution_count": 7,
      "outputs": [
        {
          "output_type": "stream",
          "name": "stdout",
          "text": [
            "{'name': 'Shivani', 'age': 22, 'grades': {'math': 99, 'science': 89, 'english': 78}}\n"
          ]
        }
      ]
    },
    {
      "cell_type": "markdown",
      "source": [
        "### Assignment 8: Dictionary of Lists\n",
        "\n",
        "Create a dictionary where the keys are the first 5 positive integers and the values are lists containing the first 5 multiples of the key. Print the dictionary.\n",
        "\n"
      ],
      "metadata": {
        "id": "MQPG9f72NYoj"
      },
      "id": "MQPG9f72NYoj"
    },
    {
      "cell_type": "code",
      "source": [
        "d = {\n",
        "    1: [1, 2, 3, 4, 5],\n",
        "    2: [2, 4, 6, 8, 10],\n",
        "    3: [3, 6, 9, 12, 15],\n",
        "    4: [4, 8, 12, 16, 20],\n",
        "    5: [5, 10, 15, 20, 25]\n",
        "}\n",
        "\n",
        "print(d)\n"
      ],
      "metadata": {
        "colab": {
          "base_uri": "https://localhost:8080/"
        },
        "id": "nx7VjuPCNZl_",
        "outputId": "5222a5c5-19cc-40e3-d993-cacbf07e27b4"
      },
      "id": "nx7VjuPCNZl_",
      "execution_count": 8,
      "outputs": [
        {
          "output_type": "stream",
          "name": "stdout",
          "text": [
            "{1: [1, 2, 3, 4, 5], 2: [2, 4, 6, 8, 10], 3: [3, 6, 9, 12, 15], 4: [4, 8, 12, 16, 20], 5: [5, 10, 15, 20, 25]}\n"
          ]
        }
      ]
    },
    {
      "cell_type": "markdown",
      "source": [
        "### Assignment 9: Dictionary of Tuples\n",
        "\n",
        "Create a dictionary where the keys are the first 5 positive integers and the values are tuples containing the key and its square. Print the dictionary.\n",
        "\n"
      ],
      "metadata": {
        "id": "BhjR7TwiNwEa"
      },
      "id": "BhjR7TwiNwEa"
    },
    {
      "cell_type": "code",
      "source": [
        "result = {x: (x, x**2) for x in range(1, 6)}\n",
        "print(\"Dictionary with tuple values:\", result)\n",
        "\n"
      ],
      "metadata": {
        "colab": {
          "base_uri": "https://localhost:8080/"
        },
        "id": "eRZ11lGbNw3H",
        "outputId": "ac76a0e3-55e3-49a8-a4ac-8d0f5ca030e3"
      },
      "id": "eRZ11lGbNw3H",
      "execution_count": 9,
      "outputs": [
        {
          "output_type": "stream",
          "name": "stdout",
          "text": [
            "Dictionary with tuple values: {1: (1, 1), 2: (2, 4), 3: (3, 9), 4: (4, 16), 5: (5, 25)}\n"
          ]
        }
      ]
    },
    {
      "cell_type": "markdown",
      "source": [
        "### Assignment 10: Dictionary and List Conversion\n",
        "\n",
        "Create a dictionary with the first 5 positive integers as keys and their squares as values. Convert the dictionary to a list of tuples and print it.\n",
        "\n"
      ],
      "metadata": {
        "id": "VLc7FdPEN2TL"
      },
      "id": "VLc7FdPEN2TL"
    },
    {
      "cell_type": "code",
      "source": [
        "d = {\n",
        "    1: 1,\n",
        "    2: 4,\n",
        "    3: 9,\n",
        "    4: 16,\n",
        "    5: 25\n",
        "}\n",
        "\n",
        "tuple_list = list(d.items())\n",
        "\n",
        "print(tuple_list)\n"
      ],
      "metadata": {
        "colab": {
          "base_uri": "https://localhost:8080/"
        },
        "id": "ooQjuLHSN3Ho",
        "outputId": "46311814-bfad-40a3-d019-8902e96c06ad"
      },
      "id": "ooQjuLHSN3Ho",
      "execution_count": 16,
      "outputs": [
        {
          "output_type": "stream",
          "name": "stdout",
          "text": [
            "[(1, 1), (2, 4), (3, 9), (4, 16), (5, 25)]\n"
          ]
        }
      ]
    },
    {
      "cell_type": "markdown",
      "source": [
        "### Assignment 11: Dictionary Filtering\n",
        "\n",
        "Create a dictionary with the first 10 positive integers as keys and their squares as values. Create a new dictionary containing only the key-value pairs where the key is even. Print the new dictionary.\n",
        "\n"
      ],
      "metadata": {
        "id": "ilr_Pv6COBGr"
      },
      "id": "ilr_Pv6COBGr"
    },
    {
      "cell_type": "code",
      "source": [
        "d = {\n",
        "    1: 1,\n",
        "    2: 4,\n",
        "    3: 9,\n",
        "    4: 16,\n",
        "    5: 25,\n",
        "    6: 36,\n",
        "    7: 49,\n",
        "    8: 64,\n",
        "    9: 81,\n",
        "    10: 100\n",
        "}\n",
        "\n",
        "even_dict = {}\n",
        "\n",
        "for key in d:\n",
        "    if key % 2 == 0:\n",
        "        even_dict[key] = d[key]\n",
        "\n",
        "print(even_dict)\n"
      ],
      "metadata": {
        "colab": {
          "base_uri": "https://localhost:8080/"
        },
        "id": "ZsaRRBlsOChB",
        "outputId": "e79ebb90-0f9e-4a8b-d7b4-232435a63f57"
      },
      "id": "ZsaRRBlsOChB",
      "execution_count": 15,
      "outputs": [
        {
          "output_type": "stream",
          "name": "stdout",
          "text": [
            "{2: 4, 4: 16, 6: 36, 8: 64, 10: 100}\n"
          ]
        }
      ]
    },
    {
      "cell_type": "markdown",
      "source": [
        "### Assignment 12: Dictionary Key and Value Transformation\n",
        "\n",
        "Create a dictionary with the first 5 positive integers as keys and their squares as values. Create a new dictionary with keys and values swapped. Print the new dictionary.\n",
        "\n"
      ],
      "metadata": {
        "id": "0srwhej8OI6I"
      },
      "id": "0srwhej8OI6I"
    },
    {
      "cell_type": "code",
      "source": [
        "d = {\n",
        "    1: 1,\n",
        "    2: 4,\n",
        "    3: 9,\n",
        "    4: 16,\n",
        "    5: 25\n",
        "}\n",
        "\n",
        "swapped = {}\n",
        "\n",
        "for key, value in d.items():\n",
        "    swapped[value] = key\n",
        "\n",
        "print(swapped)\n"
      ],
      "metadata": {
        "colab": {
          "base_uri": "https://localhost:8080/"
        },
        "id": "f8oBimpSOJ3J",
        "outputId": "adace347-c312-4218-91e4-1e2e7d1ed735"
      },
      "id": "f8oBimpSOJ3J",
      "execution_count": 14,
      "outputs": [
        {
          "output_type": "stream",
          "name": "stdout",
          "text": [
            "{1: 1, 4: 2, 9: 3, 16: 4, 25: 5}\n"
          ]
        }
      ]
    },
    {
      "cell_type": "markdown",
      "source": [
        "### Assignment 13: Default Dictionary\n",
        "\n",
        "Create a default dictionary where each key has a default value of an empty list. Add some elements to the lists and print the dictionary.\n",
        "\n"
      ],
      "metadata": {
        "id": "DTqcW5C-ORQz"
      },
      "id": "DTqcW5C-ORQz"
    },
    {
      "cell_type": "code",
      "source": [
        "from collections import defaultdict\n",
        "\n",
        "data = defaultdict(list)\n",
        "\n",
        "data[\"fruits\"].append(\"apple\")\n",
        "data[\"fruits\"].append(\"banana\")\n",
        "data[\"vegetables\"].append(\"carrot\")\n",
        "data[\"vegetables\"].append(\"spinach\")\n",
        "data[\"drinks\"].append(\"water\")\n",
        "\n",
        "print(\"Default dictionary with lists:\")\n",
        "for key, value in data.items():\n",
        "    print(key, \":\", value)\n"
      ],
      "metadata": {
        "id": "EWG_4Kf7OSCI",
        "colab": {
          "base_uri": "https://localhost:8080/"
        },
        "outputId": "66a66815-fac7-4200-98ab-e7aa1c53b426"
      },
      "id": "EWG_4Kf7OSCI",
      "execution_count": 13,
      "outputs": [
        {
          "output_type": "stream",
          "name": "stdout",
          "text": [
            "Default dictionary with lists:\n",
            "fruits : ['apple', 'banana']\n",
            "vegetables : ['carrot', 'spinach']\n",
            "drinks : ['water']\n"
          ]
        }
      ]
    },
    {
      "cell_type": "markdown",
      "source": [
        "### Assignment 14: Counting with Dictionaries\n",
        "\n",
        "Write a function that takes a string and returns a dictionary with the count of each character in the string. Print the dictionary.\n",
        "\n"
      ],
      "metadata": {
        "id": "485KSKgzOnTt"
      },
      "id": "485KSKgzOnTt"
    },
    {
      "cell_type": "code",
      "source": [
        "def count_characters(text):\n",
        "    char_count = {}\n",
        "    for char in text:\n",
        "        if char in char_count:\n",
        "            char_count[char] += 1\n",
        "        else:\n",
        "            char_count[char] = 1\n",
        "    return char_count\n",
        "\n",
        "sample_text = \"hello world\"\n",
        "result = count_characters(sample_text)\n",
        "\n",
        "print(\"Character count dictionary:\", result)\n"
      ],
      "metadata": {
        "colab": {
          "base_uri": "https://localhost:8080/"
        },
        "id": "N3m90Ir8OoLh",
        "outputId": "1d00d3d7-1e28-40d2-e5a9-9ffbe2ccf98c"
      },
      "id": "N3m90Ir8OoLh",
      "execution_count": 12,
      "outputs": [
        {
          "output_type": "stream",
          "name": "stdout",
          "text": [
            "Character count dictionary: {'h': 1, 'e': 1, 'l': 3, 'o': 2, ' ': 1, 'w': 1, 'r': 1, 'd': 1}\n"
          ]
        }
      ]
    },
    {
      "cell_type": "markdown",
      "metadata": {
        "id": "BsxAMwzILh6C"
      },
      "source": [
        "### Assignment 15: Dictionary and JSON\n",
        "\n",
        "Create a dictionary representing a book with keys 'title', 'author', 'year', and 'genre'. Convert the dictionary to a JSON string and print it."
      ],
      "id": "BsxAMwzILh6C"
    },
    {
      "cell_type": "code",
      "execution_count": 11,
      "metadata": {
        "colab": {
          "base_uri": "https://localhost:8080/"
        },
        "id": "sf2j89rRLh6H",
        "outputId": "fd68d24b-c095-40b0-83ab-403d983a3d52"
      },
      "outputs": [
        {
          "output_type": "stream",
          "name": "stdout",
          "text": [
            "Book as JSON string: {\"title\": \"The Alchemist\", \"author\": \"Paulo Coelho\", \"year\": 1988, \"genre\": \"Fiction\"}\n"
          ]
        }
      ],
      "source": [
        "import json\n",
        "\n",
        "book = {\n",
        "    'title': 'The Alchemist',\n",
        "    'author': 'Paulo Coelho',\n",
        "    'year': 1988,\n",
        "    'genre': 'Fiction'\n",
        "}\n",
        "\n",
        "book_json = json.dumps(book)\n",
        "print(\"Book as JSON string:\", book_json)\n",
        "\n"
      ],
      "id": "sf2j89rRLh6H"
    }
  ],
  "metadata": {
    "kernelspec": {
      "display_name": "Python 3",
      "language": "python",
      "name": "python3"
    },
    "language_info": {
      "codemirror_mode": {
        "name": "ipython",
        "version": 3
      },
      "file_extension": ".py",
      "mimetype": "text/x-python",
      "name": "python",
      "nbconvert_exporter": "python",
      "pygments_lexer": "ipython3",
      "version": "3.9.7"
    },
    "colab": {
      "provenance": []
    }
  },
  "nbformat": 4,
  "nbformat_minor": 5
}