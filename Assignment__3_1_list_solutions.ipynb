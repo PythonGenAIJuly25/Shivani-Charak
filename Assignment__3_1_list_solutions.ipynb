{
  "cells": [
    {
      "cell_type": "markdown",
      "source": [
        "# Module 3: Data Structures Assignments\n",
        "## Lesson 3.1: Lists\n",
        "### Assignment 1: Creating and Accessing Lists\n",
        "\n",
        "\n",
        "Create a list of the first 20 positive integers. Print the list."
      ],
      "metadata": {
        "id": "HQ7nwgrYaz14"
      },
      "id": "HQ7nwgrYaz14"
    },
    {
      "cell_type": "code",
      "source": [
        "a=[1,2,3,4,5,6,7,8,9,10,11,12,13,14,15,16,17,18.19,20]\n",
        "print(a)"
      ],
      "metadata": {
        "colab": {
          "base_uri": "https://localhost:8080/"
        },
        "id": "0XzpnCIBa2Uz",
        "outputId": "01a2696f-75ec-4638-8c91-0e2ac7e65c9b"
      },
      "id": "0XzpnCIBa2Uz",
      "execution_count": 3,
      "outputs": [
        {
          "output_type": "stream",
          "name": "stdout",
          "text": [
            "[1, 2, 3, 4, 5, 6, 7, 8, 9, 10, 11, 12, 13, 14, 15, 16, 17, 18.19, 20]\n"
          ]
        }
      ]
    },
    {
      "cell_type": "markdown",
      "source": [
        "### Assignment 2: Accessing List Elements\n",
        "\n",
        "Print the first, middle, and last elements of the list created in Assignment 1."
      ],
      "metadata": {
        "id": "TmoNJqltbEYU"
      },
      "id": "TmoNJqltbEYU"
    },
    {
      "cell_type": "code",
      "source": [
        "my_list = [10, 20, 30, 40, 50, 60, 70]\n",
        "\n",
        "first = my_list[0]\n",
        "last = my_list[-1]\n",
        "middle = my_list[len(my_list) // 2]\n",
        "\n",
        "print(\"Ist element:\", first)\n",
        "print(\"2nd element:\", middle)\n",
        "print(\"3rd element:\", last)"
      ],
      "metadata": {
        "colab": {
          "base_uri": "https://localhost:8080/"
        },
        "id": "wfzcp_kebFaD",
        "outputId": "e6199326-1592-45dd-b706-f4f08d292093"
      },
      "id": "wfzcp_kebFaD",
      "execution_count": 4,
      "outputs": [
        {
          "output_type": "stream",
          "name": "stdout",
          "text": [
            "Ist element: 10\n",
            "2nd element: 40\n",
            "3rd element: 70\n"
          ]
        }
      ]
    },
    {
      "cell_type": "markdown",
      "source": [
        "### Assignment 3: List Slicing\n",
        "\n",
        "Print the first five elements, the last five elements, and the elements from index 5 to 15 of the list created in Assignment 1."
      ],
      "metadata": {
        "id": "7zaqxb7HbM1R"
      },
      "id": "7zaqxb7HbM1R"
    },
    {
      "cell_type": "code",
      "source": [
        "my_list = [5, 10, 15, 20, 25, 30, 35, 40, 45, 50, 55, 60, 65, 70, 75, 80, 85, 90]\n",
        "\n",
        "first_five = my_list[:5]\n",
        "last_five = my_list[-5:]\n",
        "mid_section = my_list[5:16]\n",
        "\n",
        "print(\"First five elements:\", first_five)\n",
        "print(\"Last five elements:\", last_five)\n",
        "print(\"Elements from index 5 to 15:\", mid_section)\n"
      ],
      "metadata": {
        "colab": {
          "base_uri": "https://localhost:8080/"
        },
        "id": "_vVpSWPlbN0K",
        "outputId": "4e61385e-3ea5-4f1d-9dc8-07f38be9619b"
      },
      "id": "_vVpSWPlbN0K",
      "execution_count": 5,
      "outputs": [
        {
          "output_type": "stream",
          "name": "stdout",
          "text": [
            "First five elements: [5, 10, 15, 20, 25]\n",
            "Last five elements: [70, 75, 80, 85, 90]\n",
            "Elements from index 5 to 15: [30, 35, 40, 45, 50, 55, 60, 65, 70, 75, 80]\n"
          ]
        }
      ]
    },
    {
      "cell_type": "markdown",
      "source": [
        "### Assignment 4: List Comprehensions\n",
        "\n",
        "Create a new list containing the squares of the first 10 positive integers using a list comprehension. Print the new list.\n"
      ],
      "metadata": {
        "id": "1y-j0QpYbR3p"
      },
      "id": "1y-j0QpYbR3p"
    },
    {
      "cell_type": "code",
      "source": [
        "a=[x*x for x in range(10)]\n",
        "print(a)"
      ],
      "metadata": {
        "colab": {
          "base_uri": "https://localhost:8080/"
        },
        "id": "QLjvYWTNbS8g",
        "outputId": "31aac5d0-feb2-4bf4-cb3e-009e77d9049d"
      },
      "id": "QLjvYWTNbS8g",
      "execution_count": 6,
      "outputs": [
        {
          "output_type": "stream",
          "name": "stdout",
          "text": [
            "[0, 1, 4, 9, 16, 25, 36, 49, 64, 81]\n"
          ]
        }
      ]
    },
    {
      "cell_type": "markdown",
      "source": [
        "### Assignment 5: Filtering Lists\n",
        "\n",
        "Create a new list containing only the even numbers from the list created in Assignment 1 using a list comprehension. Print the new list."
      ],
      "metadata": {
        "id": "mrJIfDYKbW53"
      },
      "id": "mrJIfDYKbW53"
    },
    {
      "cell_type": "code",
      "source": [
        "my_list = [5, 10, 15, 20, 25, 30, 35, 40, 45, 50, 55, 60, 65, 70, 75, 80, 85, 90]\n",
        "even_numbers = [num for num in my_list if num % 2 == 0]\n",
        "print(\"Even numbers in the list:\", even_numbers)\n"
      ],
      "metadata": {
        "colab": {
          "base_uri": "https://localhost:8080/"
        },
        "id": "ERrGACE-bXxB",
        "outputId": "cb33319e-bc43-4c1d-a94f-0e3b61375f3f"
      },
      "id": "ERrGACE-bXxB",
      "execution_count": 8,
      "outputs": [
        {
          "output_type": "stream",
          "name": "stdout",
          "text": [
            "Even numbers in the list: [10, 20, 30, 40, 50, 60, 70, 80, 90]\n"
          ]
        }
      ]
    },
    {
      "cell_type": "markdown",
      "source": [
        "### Assignment 6: List Methods\n",
        "\n",
        "Create a list of random numbers and sort it in ascending and descending order. Remove the duplicates from the list and print the modified list."
      ],
      "metadata": {
        "id": "sfos4r4dbcq7"
      },
      "id": "sfos4r4dbcq7"
    },
    {
      "cell_type": "code",
      "source": [
        "import random\n",
        "\n",
        "numbers = [random.randint(1, 100) for _ in range(20)]\n",
        "unique_numbers = list(set(numbers))\n",
        "ascending = sorted(unique_numbers)\n",
        "descending = sorted(unique_numbers, reverse=True)\n",
        "\n",
        "print(\"Original list:\", numbers)\n",
        "print(\"Without duplicates:\", unique_numbers)\n",
        "print(\"Ascending order:\", ascending)\n",
        "print(\"Descending order:\", descending)\n",
        "\n"
      ],
      "metadata": {
        "colab": {
          "base_uri": "https://localhost:8080/"
        },
        "id": "wk6z-IIjbdrf",
        "outputId": "efcf74ce-bb3e-47c9-cd04-38dd9db244b3"
      },
      "id": "wk6z-IIjbdrf",
      "execution_count": 9,
      "outputs": [
        {
          "output_type": "stream",
          "name": "stdout",
          "text": [
            "Original list: [59, 62, 50, 14, 17, 48, 40, 33, 8, 11, 77, 6, 50, 97, 9, 90, 11, 36, 68, 53]\n",
            "Without duplicates: [33, 97, 36, 68, 6, 40, 8, 9, 11, 77, 14, 48, 17, 50, 53, 90, 59, 62]\n",
            "Ascending order: [6, 8, 9, 11, 14, 17, 33, 36, 40, 48, 50, 53, 59, 62, 68, 77, 90, 97]\n",
            "Descending order: [97, 90, 77, 68, 62, 59, 53, 50, 48, 40, 36, 33, 17, 14, 11, 9, 8, 6]\n"
          ]
        }
      ]
    },
    {
      "cell_type": "markdown",
      "source": [
        "### Assignment 7: Nested Lists\n",
        "\n",
        "Create a nested list representing a 3x3 matrix and print the matrix. Access and print the element at the second row and third column."
      ],
      "metadata": {
        "id": "HrNdLqdjbh6L"
      },
      "id": "HrNdLqdjbh6L"
    },
    {
      "cell_type": "code",
      "source": [
        "matrix = [\n",
        "    [1, 2, 3],\n",
        "    [4, 5, 6],\n",
        "    [7, 8, 9]\n",
        "]\n",
        "\n",
        "for row in matrix:\n",
        "    print(row)\n",
        "\n",
        "print(\"Element at second row, third column:\", matrix[1][2])\n",
        "\n"
      ],
      "metadata": {
        "colab": {
          "base_uri": "https://localhost:8080/"
        },
        "id": "ISPvSkQKbiwP",
        "outputId": "460f3f61-8ce6-4867-d506-911d5716c25f"
      },
      "id": "ISPvSkQKbiwP",
      "execution_count": 10,
      "outputs": [
        {
          "output_type": "stream",
          "name": "stdout",
          "text": [
            "[1, 2, 3]\n",
            "[4, 5, 6]\n",
            "[7, 8, 9]\n",
            "Element at second row, third column: 6\n"
          ]
        }
      ]
    },
    {
      "cell_type": "markdown",
      "source": [
        "### Assignment 8: List of Dictionaries\n",
        "\n",
        "Create a list of dictionaries where each dictionary represents a student with keys 'name' and 'score'. Sort the list of dictionaries by the 'score' in descending order and print the sorted list."
      ],
      "metadata": {
        "id": "l33bwOSibndH"
      },
      "id": "l33bwOSibndH"
    },
    {
      "cell_type": "code",
      "source": [
        "def get_score(student):\n",
        "    return student['score']\n",
        "\n",
        "students = [\n",
        "    {'name': 'Shivani', 'score': 85},\n",
        "    {'name': 'Tushar', 'score': 92},\n",
        "    {'name': 'Vineet', 'score': 78},\n",
        "    {'name': 'Shreya', 'score': 90}\n",
        "]\n",
        "\n",
        "students.sort(key=get_score, reverse=True)\n",
        "\n",
        "print(\"Sorted list by score:\")\n",
        "for student in students:\n",
        "    print(student)\n"
      ],
      "metadata": {
        "colab": {
          "base_uri": "https://localhost:8080/"
        },
        "id": "iPEy26s8boUi",
        "outputId": "6ab43d25-2b10-41b9-ec29-62043ecfb92f"
      },
      "id": "iPEy26s8boUi",
      "execution_count": 12,
      "outputs": [
        {
          "output_type": "stream",
          "name": "stdout",
          "text": [
            "Sorted list by score:\n",
            "{'name': 'Tushar', 'score': 92}\n",
            "{'name': 'Shreya', 'score': 90}\n",
            "{'name': 'Shivani', 'score': 85}\n",
            "{'name': 'Vineet', 'score': 78}\n"
          ]
        }
      ]
    },
    {
      "cell_type": "markdown",
      "source": [
        "### Assignment 9: Matrix Transposition\n",
        "\n",
        "Write a function that takes a 3x3 matrix (nested list) as input and returns its transpose. Print the original and transposed matrices."
      ],
      "metadata": {
        "id": "81PH2Cvrbr-n"
      },
      "id": "81PH2Cvrbr-n"
    },
    {
      "cell_type": "code",
      "source": [
        "def transpose_matrix(matrix):\n",
        "    return [[matrix[j][i] for j in range(3)] for i in range(3)]\n",
        "\n",
        "original = [\n",
        "    [1, 2, 3],\n",
        "    [4, 5, 6],\n",
        "    [7, 8, 9]\n",
        "]\n",
        "\n",
        "transposed = transpose_matrix(original)\n",
        "\n",
        "print(\"Original matrix:\")\n",
        "for row in original:\n",
        "    print(row)\n",
        "\n",
        "print(\"Transposed matrix:\")\n",
        "for row in transposed:\n",
        "    print(row)\n",
        "\n"
      ],
      "metadata": {
        "colab": {
          "base_uri": "https://localhost:8080/"
        },
        "id": "sDTxHrcbbszU",
        "outputId": "41fa8e02-3484-443c-f13f-578edd7d7fa3"
      },
      "id": "sDTxHrcbbszU",
      "execution_count": 15,
      "outputs": [
        {
          "output_type": "stream",
          "name": "stdout",
          "text": [
            "Original matrix:\n",
            "[1, 2, 3]\n",
            "[4, 5, 6]\n",
            "[7, 8, 9]\n",
            "Transposed matrix:\n",
            "[1, 4, 7]\n",
            "[2, 5, 8]\n",
            "[3, 6, 9]\n"
          ]
        }
      ]
    },
    {
      "cell_type": "markdown",
      "source": [
        "### Assignment 10: Flattening a Nested List\n",
        "\n",
        "Write a function that takes a nested list and flattens it into a single list. Print the original and flattened lists."
      ],
      "metadata": {
        "id": "Di2KaIF5bw5i"
      },
      "id": "Di2KaIF5bw5i"
    },
    {
      "cell_type": "code",
      "source": [
        "def flatten_list(nested):\n",
        "    return [item for sublist in nested for item in sublist]\n",
        "\n",
        "original = [[1, 2], [3, 4], [5, 6]]\n",
        "\n",
        "flattened = flatten_list(original)\n",
        "\n",
        "print(\"Original list:\", original)\n",
        "print(\"Flattened list:\", flattened)\n",
        "\n"
      ],
      "metadata": {
        "colab": {
          "base_uri": "https://localhost:8080/"
        },
        "id": "srRTVewebyAS",
        "outputId": "ead2190d-d174-4259-cfc0-b4789170e487"
      },
      "id": "srRTVewebyAS",
      "execution_count": 16,
      "outputs": [
        {
          "output_type": "stream",
          "name": "stdout",
          "text": [
            "Original list: [[1, 2], [3, 4], [5, 6]]\n",
            "Flattened list: [1, 2, 3, 4, 5, 6]\n"
          ]
        }
      ]
    },
    {
      "cell_type": "markdown",
      "source": [
        "### Assignment 11: List Manipulation\n",
        "\n",
        "Create a list of the first 10 positive integers. Remove the elements at indices 2, 4, and 6, and insert the element '99' at index 5. Print the modified list."
      ],
      "metadata": {
        "id": "Np2bn-t3b1-x"
      },
      "id": "Np2bn-t3b1-x"
    },
    {
      "cell_type": "code",
      "source": [
        "a = [1, 2, 3, 4, 5, 6, 7, 8, 9, 10]\n",
        "\n",
        "del a[6]\n",
        "del a[4]\n",
        "del a[2]\n",
        "\n",
        "a.insert(5, 99)\n",
        "\n",
        "print(a)\n"
      ],
      "metadata": {
        "colab": {
          "base_uri": "https://localhost:8080/"
        },
        "id": "ZsK8GzzQb29B",
        "outputId": "69a8e7cf-2b60-4490-f578-28356c092fca"
      },
      "id": "ZsK8GzzQb29B",
      "execution_count": 21,
      "outputs": [
        {
          "output_type": "stream",
          "name": "stdout",
          "text": [
            "[1, 2, 4, 6, 8, 99, 9, 10]\n"
          ]
        }
      ]
    },
    {
      "cell_type": "markdown",
      "source": [
        "### Assignment 12: List Zipping\n",
        "\n",
        "Create two lists of the same length. Use the `zip` function to combine these lists into a list of tuples and print the result."
      ],
      "metadata": {
        "id": "TJc8R79hb5Nz"
      },
      "id": "TJc8R79hb5Nz"
    },
    {
      "cell_type": "code",
      "source": [
        "a = [1, 2, 3, 4]\n",
        "b = ['a', 'b', 'c', 'd']\n",
        "\n",
        "zipped = list(zip(a, b))\n",
        "\n",
        "print(zipped)\n"
      ],
      "metadata": {
        "colab": {
          "base_uri": "https://localhost:8080/"
        },
        "id": "_yZTZmRpb6RM",
        "outputId": "e90b09ca-ff53-4045-c614-70769b6c7190"
      },
      "id": "_yZTZmRpb6RM",
      "execution_count": 20,
      "outputs": [
        {
          "output_type": "stream",
          "name": "stdout",
          "text": [
            "[(1, 'a'), (2, 'b'), (3, 'c'), (4, 'd')]\n"
          ]
        }
      ]
    },
    {
      "cell_type": "markdown",
      "source": [
        "### Assignment 13: List Reversal\n",
        "\n",
        "Write a function that takes a list and returns a new list with the elements in reverse order. Print the original and reversed lists."
      ],
      "metadata": {
        "id": "w7fKN89Pb9zg"
      },
      "id": "w7fKN89Pb9zg"
    },
    {
      "cell_type": "code",
      "source": [
        "a = [1, 2, 3, 4]\n",
        "b=a[-1::-1]\n",
        "print(b)"
      ],
      "metadata": {
        "colab": {
          "base_uri": "https://localhost:8080/"
        },
        "id": "Ow-IdtOZb-4n",
        "outputId": "56d0d230-d9f1-47c8-ea01-37c9301d3ab3"
      },
      "id": "Ow-IdtOZb-4n",
      "execution_count": 19,
      "outputs": [
        {
          "output_type": "stream",
          "name": "stdout",
          "text": [
            "[4, 3, 2, 1]\n"
          ]
        }
      ]
    },
    {
      "cell_type": "markdown",
      "source": [
        "### Assignment 14: List Rotation\n",
        "\n",
        "Write a function that rotates a list by n positions. Print the original and rotated lists."
      ],
      "metadata": {
        "id": "23m0WB7bcB91"
      },
      "id": "23m0WB7bcB91"
    },
    {
      "cell_type": "code",
      "source": [
        "a = [1, 2, 3, 4, 5, 6]\n",
        "n=2\n",
        "n = n % len(a)\n",
        "rotated=a[n:] + a[:n]\n",
        "print(\"Rotated list:\", rotated)\n"
      ],
      "metadata": {
        "colab": {
          "base_uri": "https://localhost:8080/"
        },
        "id": "kN5G_IofcC-C",
        "outputId": "b898294d-4351-4ae1-d683-c3cc2313b8da"
      },
      "id": "kN5G_IofcC-C",
      "execution_count": 18,
      "outputs": [
        {
          "output_type": "stream",
          "name": "stdout",
          "text": [
            "Rotated list: [3, 4, 5, 6, 1, 2]\n"
          ]
        }
      ]
    },
    {
      "cell_type": "markdown",
      "metadata": {
        "id": "syBMzc1Dam_v"
      },
      "source": [
        "### Assignment 15: List Intersection\n",
        "\n",
        "Write a function that takes two lists and returns a new list containing only the elements that are present in both lists. Print the intersected list."
      ],
      "id": "syBMzc1Dam_v"
    },
    {
      "cell_type": "code",
      "execution_count": 17,
      "metadata": {
        "id": "rxnaMNMAam_1",
        "colab": {
          "base_uri": "https://localhost:8080/"
        },
        "outputId": "2317bf75-1352-445a-f790-c3eea4ae840e"
      },
      "outputs": [
        {
          "output_type": "stream",
          "name": "stdout",
          "text": [
            "List A: [1, 2, 3, 4, 5]\n",
            "List B: [4, 5, 6, 7, 8]\n",
            "Intersection: [4, 5]\n"
          ]
        }
      ],
      "source": [
        "def find_intersection(list1, list2):\n",
        "    return [item for item in list1 if item in list2]\n",
        "\n",
        "a = [1, 2, 3, 4, 5]\n",
        "b = [4, 5, 6, 7, 8]\n",
        "\n",
        "common = find_intersection(a, b)\n",
        "\n",
        "print(\"List A:\", a)\n",
        "print(\"List B:\", b)\n",
        "print(\"Intersection:\", common)\n",
        "\n"
      ],
      "id": "rxnaMNMAam_1"
    }
  ],
  "metadata": {
    "kernelspec": {
      "display_name": "Python 3",
      "language": "python",
      "name": "python3"
    },
    "language_info": {
      "codemirror_mode": {
        "name": "ipython",
        "version": 3
      },
      "file_extension": ".py",
      "mimetype": "text/x-python",
      "name": "python",
      "nbconvert_exporter": "python",
      "pygments_lexer": "ipython3",
      "version": "3.9.7"
    },
    "colab": {
      "provenance": []
    }
  },
  "nbformat": 4,
  "nbformat_minor": 5
}