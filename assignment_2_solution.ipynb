{
  "cells": [
    {
      "cell_type": "markdown",
      "source": [
        "# Module 2: Control Flow Assignments\n",
        "## Lesson 2.1: Conditional Statements"
      ],
      "metadata": {
        "id": "t_EDGnqdYJSX"
      },
      "id": "t_EDGnqdYJSX"
    },
    {
      "cell_type": "markdown",
      "source": [
        "### Assignment 1: Simple if Statement\n",
        "\n",
        "Write a program that asks the user to input a number and prints whether the number is positive."
      ],
      "metadata": {
        "id": "nc4uyzeOX_Ua"
      },
      "id": "nc4uyzeOX_Ua"
    },
    {
      "cell_type": "code",
      "source": [
        "n=int(input(\"Enter a Number:\"))\n",
        "if n>0:\n",
        "  print(\"Positive\")"
      ],
      "metadata": {
        "id": "1f71SE04YAzG",
        "colab": {
          "base_uri": "https://localhost:8080/"
        },
        "outputId": "44c645e5-ff63-46d2-d125-546b01406314"
      },
      "id": "1f71SE04YAzG",
      "execution_count": 1,
      "outputs": [
        {
          "output_type": "stream",
          "name": "stdout",
          "text": [
            "Enter a Number:6\n",
            "Positive\n"
          ]
        }
      ]
    },
    {
      "cell_type": "markdown",
      "source": [
        "### Assignment 2: if-else Statement\n",
        "\n",
        "Write a program that asks the user to input a number and prints whether the number is positive or negative."
      ],
      "metadata": {
        "id": "6MIuZhEAYNTS"
      },
      "id": "6MIuZhEAYNTS"
    },
    {
      "cell_type": "code",
      "source": [
        "n=int(input(\"enter a num\"))\n",
        "if n <0:\n",
        "  print(\"Negative\")\n",
        "else:\n",
        "     print(\"Positive\")"
      ],
      "metadata": {
        "id": "mu870IIRYRSu",
        "colab": {
          "base_uri": "https://localhost:8080/"
        },
        "outputId": "101b3e8e-c4a1-4745-e9f5-06d67658eb2d"
      },
      "id": "mu870IIRYRSu",
      "execution_count": null,
      "outputs": [
        {
          "output_type": "stream",
          "name": "stdout",
          "text": [
            "enter a num33\n",
            "Positive\n"
          ]
        }
      ]
    },
    {
      "cell_type": "markdown",
      "source": [
        "### Assignment 3: if-elif-else Statement\n",
        "\n",
        "Write a program that asks the user to input a number and prints whether the number is positive, negative, or zero"
      ],
      "metadata": {
        "id": "2AXLJTMKP2gS"
      },
      "id": "2AXLJTMKP2gS"
    },
    {
      "cell_type": "code",
      "source": [
        "number = float(input(\"Enter a number: \"))\n",
        "\n",
        "if number > 0:\n",
        "    print(\"The number is positive.\")\n",
        "elif number < 0:\n",
        "    print(\"The number is negative.\")\n",
        "else:\n",
        "    print(\"The number is zero.\")\n"
      ],
      "metadata": {
        "colab": {
          "base_uri": "https://localhost:8080/"
        },
        "id": "lRzIm8PYQmTl",
        "outputId": "56ede8ae-1705-448f-e1fd-a5299eaad8f3"
      },
      "id": "lRzIm8PYQmTl",
      "execution_count": null,
      "outputs": [
        {
          "output_type": "stream",
          "name": "stdout",
          "text": [
            "Enter a number: 10\n",
            "The number is positive.\n"
          ]
        }
      ]
    },
    {
      "cell_type": "markdown",
      "source": [
        "### Assignment 4: Nested if Statement\n",
        "\n",
        "Write a program that asks the user to input a number and prints whether the number is positive and even, positive and odd, or negative.\n"
      ],
      "metadata": {
        "id": "nvogW17lRd8x"
      },
      "id": "nvogW17lRd8x"
    },
    {
      "cell_type": "code",
      "source": [
        "num = int(input(\"Enter a number: \"))\n",
        "if num > 0:\n",
        "    if num % 2 == 0:\n",
        "        print(\"Positive and even\")\n",
        "    else:\n",
        "        print(\"Positive and odd\")\n",
        "elif num < 0:\n",
        "    print(\"Negative\")\n",
        "else:\n",
        "    print(\"Zero\")\n"
      ],
      "metadata": {
        "colab": {
          "base_uri": "https://localhost:8080/"
        },
        "id": "S2vvBOdPRmGU",
        "outputId": "5f94b1eb-d60e-496d-d461-299106734a2b"
      },
      "id": "S2vvBOdPRmGU",
      "execution_count": null,
      "outputs": [
        {
          "output_type": "stream",
          "name": "stdout",
          "text": [
            "Enter a number: 32\n",
            "Positive and even\n"
          ]
        }
      ]
    },
    {
      "cell_type": "markdown",
      "source": [
        "## Lesson 2.2: Loops\n",
        "### Assignment 5: for Loop\n",
        "\n",
        "Write a program that prints all the numbers from 1 to 10 using a for loop."
      ],
      "metadata": {
        "id": "OQpraDIZSQ7-"
      },
      "id": "OQpraDIZSQ7-"
    },
    {
      "cell_type": "code",
      "source": [
        "for i in range(1,11):\n",
        "  print(i)"
      ],
      "metadata": {
        "colab": {
          "base_uri": "https://localhost:8080/"
        },
        "id": "j6NeyxX6SQSd",
        "outputId": "704ad68c-5648-4c53-e0f4-db5ce249f087"
      },
      "id": "j6NeyxX6SQSd",
      "execution_count": null,
      "outputs": [
        {
          "output_type": "stream",
          "name": "stdout",
          "text": [
            "1\n",
            "2\n",
            "3\n",
            "4\n",
            "5\n",
            "6\n",
            "7\n",
            "8\n",
            "9\n",
            "10\n"
          ]
        }
      ]
    },
    {
      "cell_type": "markdown",
      "source": [
        "### Assignment 6: while Loop\n",
        "\n",
        "Write a program that prints all the numbers from 1 to 10 using a while loop."
      ],
      "metadata": {
        "id": "dPX8vB19SYTG"
      },
      "id": "dPX8vB19SYTG"
    },
    {
      "cell_type": "code",
      "source": [
        "i=1\n",
        "while i<11:\n",
        "  print(i)\n",
        "  i+=1\n"
      ],
      "metadata": {
        "colab": {
          "base_uri": "https://localhost:8080/"
        },
        "id": "jGqSkXvoSe5L",
        "outputId": "2122d061-677f-48a3-fb8c-57271e1c7a4a"
      },
      "id": "jGqSkXvoSe5L",
      "execution_count": null,
      "outputs": [
        {
          "output_type": "stream",
          "name": "stdout",
          "text": [
            "1\n",
            "2\n",
            "3\n",
            "4\n",
            "5\n",
            "6\n",
            "7\n",
            "8\n",
            "9\n",
            "10\n"
          ]
        }
      ]
    },
    {
      "cell_type": "markdown",
      "source": [
        "### Assignment 7: Nested Loops\n",
        "\n",
        "Write a program that prints a 5x5 grid of asterisks (*) using nested loops."
      ],
      "metadata": {
        "id": "PSPx6221Sj60"
      },
      "id": "PSPx6221Sj60"
    },
    {
      "cell_type": "code",
      "source": [
        "for i in range(5):\n",
        "    for j in range(5):\n",
        "        print(\"*\", end=\"\")\n",
        "    print()"
      ],
      "metadata": {
        "colab": {
          "base_uri": "https://localhost:8080/"
        },
        "id": "fXbninW6SlgL",
        "outputId": "07487424-df3e-4b67-c713-d46ca0ad203c"
      },
      "id": "fXbninW6SlgL",
      "execution_count": null,
      "outputs": [
        {
          "output_type": "stream",
          "name": "stdout",
          "text": [
            "*****\n",
            "*****\n",
            "*****\n",
            "*****\n",
            "*****\n"
          ]
        }
      ]
    },
    {
      "cell_type": "markdown",
      "source": [
        "### Assignment 8: break Statement\n",
        "\n",
        "Write a program that asks the user to input numbers until they input 0. The program should print the sum of all the input numbers."
      ],
      "metadata": {
        "id": "Cgnz9JKhSuF1"
      },
      "id": "Cgnz9JKhSuF1"
    },
    {
      "cell_type": "code",
      "source": [
        "total = 0\n",
        "while True:\n",
        "    n = int(input(\"Enter a number: \"))\n",
        "    if n == 0:\n",
        "        break\n",
        "    total += n\n",
        "print(\"The sum is:\", total)\n"
      ],
      "metadata": {
        "colab": {
          "base_uri": "https://localhost:8080/"
        },
        "id": "gJdcVl7MSxro",
        "outputId": "57d3f890-4835-4b3c-fc3a-4fed68fea01a"
      },
      "id": "gJdcVl7MSxro",
      "execution_count": null,
      "outputs": [
        {
          "output_type": "stream",
          "name": "stdout",
          "text": [
            "Enter a number: 8\n",
            "Enter a number: 9\n",
            "Enter a number: 5\n",
            "Enter a number: 0\n",
            "The sum is: 22\n"
          ]
        }
      ]
    },
    {
      "cell_type": "markdown",
      "source": [
        "### Assignment 9: continue Statement\n",
        "\n",
        "Write a program that prints all the numbers from 1 to 10 except 5 using a for loop and continue statement.\n"
      ],
      "metadata": {
        "id": "Us5UaSSVS7Ic"
      },
      "id": "Us5UaSSVS7Ic"
    },
    {
      "cell_type": "code",
      "source": [
        "for i in range(1,10):\n",
        "    if i==5:\n",
        "      continue\n",
        "    print(i)"
      ],
      "metadata": {
        "colab": {
          "base_uri": "https://localhost:8080/"
        },
        "id": "OwsSRskWS9q7",
        "outputId": "189b974a-e999-4f20-ffce-5c7a5921c1cb"
      },
      "id": "OwsSRskWS9q7",
      "execution_count": null,
      "outputs": [
        {
          "output_type": "stream",
          "name": "stdout",
          "text": [
            "1\n",
            "2\n",
            "3\n",
            "4\n",
            "6\n",
            "7\n",
            "8\n",
            "9\n"
          ]
        }
      ]
    },
    {
      "cell_type": "markdown",
      "source": [
        "### Assignment 10: pass Statement\n",
        "\n",
        "Write a program that defines an empty function using the pass statement."
      ],
      "metadata": {
        "id": "WYaAmzCMTCAH"
      },
      "id": "WYaAmzCMTCAH"
    },
    {
      "cell_type": "code",
      "source": [
        "def empty_function():\n",
        "    pass\n"
      ],
      "metadata": {
        "id": "mXIKbF6aTEU5"
      },
      "id": "mXIKbF6aTEU5",
      "execution_count": null,
      "outputs": []
    },
    {
      "cell_type": "markdown",
      "source": [
        "### Assignment 11: Combining Loops and Conditionals\n",
        "\n",
        "Write a program that asks the user to input a number and prints all the even numbers from 1 to that number using a for loop."
      ],
      "metadata": {
        "id": "M-KIYykkTLNS"
      },
      "id": "M-KIYykkTLNS"
    },
    {
      "cell_type": "code",
      "source": [
        "n=int(input(\"enter a num\"))\n",
        "for i in range(1,n):\n",
        "  if i%2==0:\n",
        "    print(i)"
      ],
      "metadata": {
        "colab": {
          "base_uri": "https://localhost:8080/"
        },
        "id": "hkujm2llTMo1",
        "outputId": "f7c9781b-1208-420b-e896-44cd9689517b"
      },
      "id": "hkujm2llTMo1",
      "execution_count": null,
      "outputs": [
        {
          "output_type": "stream",
          "name": "stdout",
          "text": [
            "enter a num16\n",
            "2\n",
            "4\n",
            "6\n",
            "8\n",
            "10\n",
            "12\n",
            "14\n"
          ]
        }
      ]
    },
    {
      "cell_type": "markdown",
      "source": [
        "### Assignment 12: Factorial Calculation\n",
        "\n",
        "Write a program that calculates the factorial of a number input by the user using a while loop."
      ],
      "metadata": {
        "id": "_w9-9FP9TRAG"
      },
      "id": "_w9-9FP9TRAG"
    },
    {
      "cell_type": "code",
      "source": [
        "num = int(input(\"Enter a number: \"))\n",
        "result = 1\n",
        "while num > 0:\n",
        "    result *= num\n",
        "    num -= 1\n",
        "print(result)\n",
        "\n"
      ],
      "metadata": {
        "colab": {
          "base_uri": "https://localhost:8080/"
        },
        "id": "_CDonM33TSFo",
        "outputId": "ae6040b2-a0dc-4226-edaa-9f91e1473c30"
      },
      "id": "_CDonM33TSFo",
      "execution_count": null,
      "outputs": [
        {
          "output_type": "stream",
          "name": "stdout",
          "text": [
            "Enter a number: 5\n",
            "120\n"
          ]
        }
      ]
    },
    {
      "cell_type": "markdown",
      "source": [
        "### Assignment 13: Sum of Digits\n",
        "\n",
        "Write a program that calculates the sum of the digits of a number input by the user using a while loop."
      ],
      "metadata": {
        "id": "x1HBT-hiTYSJ"
      },
      "id": "x1HBT-hiTYSJ"
    },
    {
      "cell_type": "code",
      "source": [
        "num = int(input(\"Enter a number: \"))\n",
        "total = 0\n",
        "while num > 0:\n",
        "    total += num % 10\n",
        "    num //= 10\n",
        "print(total)\n",
        "\n"
      ],
      "metadata": {
        "colab": {
          "base_uri": "https://localhost:8080/"
        },
        "id": "JEYjZTHRTZac",
        "outputId": "290d9835-41b3-4869-94db-2e4b3842c5d0"
      },
      "id": "JEYjZTHRTZac",
      "execution_count": null,
      "outputs": [
        {
          "output_type": "stream",
          "name": "stdout",
          "text": [
            "Enter a number: 76\n",
            "13\n"
          ]
        }
      ]
    },
    {
      "cell_type": "markdown",
      "source": [
        "### Assignment 14: Prime Number Check\n",
        "\n",
        "Write a program that checks if a number input by the user is a prime number using a for loop.\n"
      ],
      "metadata": {
        "id": "vMF93mvOTc-r"
      },
      "id": "vMF93mvOTc-r"
    },
    {
      "cell_type": "code",
      "source": [
        "n = int(input(\"Enter a number: \"))\n",
        "if n < 2:\n",
        "    print(\"Not a prime number\")\n",
        "else:\n",
        "    for i in range(2, n):\n",
        "        if n % i == 0:\n",
        "            print(\"Not a prime number\")\n",
        "            break\n",
        "    else:\n",
        "        print(\"Prime number\")\n",
        "\n"
      ],
      "metadata": {
        "colab": {
          "base_uri": "https://localhost:8080/"
        },
        "id": "3xtmM82KTdq5",
        "outputId": "f67733fd-bc1e-4da8-9c85-5b906eeaf3ce"
      },
      "id": "3xtmM82KTdq5",
      "execution_count": null,
      "outputs": [
        {
          "output_type": "stream",
          "name": "stdout",
          "text": [
            "Enter a number: 13\n",
            "Prime number\n"
          ]
        }
      ]
    },
    {
      "cell_type": "markdown",
      "metadata": {
        "id": "ACxk4D0TXiq4"
      },
      "source": [
        "\n",
        "### Assignment 15: Fibonacci Sequence\n",
        "\n",
        "Write a program that prints the first n Fibonacci numbers, where n is input by the user."
      ],
      "id": "ACxk4D0TXiq4"
    },
    {
      "cell_type": "code",
      "execution_count": null,
      "metadata": {
        "id": "vAUUndrFXiq8",
        "colab": {
          "base_uri": "https://localhost:8080/"
        },
        "outputId": "d8b13e14-2873-4645-e23a-18c356f62d3e"
      },
      "outputs": [
        {
          "output_type": "stream",
          "name": "stdout",
          "text": [
            "Enter a number: 14\n",
            "0 1 1 2 3 5 8 13 21 34 55 89 144 233 "
          ]
        }
      ],
      "source": [
        "n = int(input(\"Enter a number: \"))\n",
        "a = 0\n",
        "b = 1\n",
        "i = 0\n",
        "while i < n:\n",
        "    print(a, end=\" \")\n",
        "    a, b = b, a + b\n",
        "    i += 1\n",
        "\n"
      ],
      "id": "vAUUndrFXiq8"
    }
  ],
  "metadata": {
    "kernelspec": {
      "display_name": "Python 3",
      "language": "python",
      "name": "python3"
    },
    "language_info": {
      "codemirror_mode": {
        "name": "ipython",
        "version": 3
      },
      "file_extension": ".py",
      "mimetype": "text/x-python",
      "name": "python",
      "nbconvert_exporter": "python",
      "pygments_lexer": "ipython3",
      "version": "3.9.7"
    },
    "colab": {
      "provenance": []
    }
  },
  "nbformat": 4,
  "nbformat_minor": 5
}