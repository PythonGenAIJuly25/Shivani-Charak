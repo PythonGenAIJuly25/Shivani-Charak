{
  "cells": [
    {
      "cell_type": "markdown",
      "source": [
        "# Module 4: Functions Assignments\n",
        "## Lesson 4.1: Defining Functions\n",
        "### Assignment 1: Simple Function\n",
        "\n",
        "Define a function that takes a single integer as input and returns its square. Test the function with different inputs.\n",
        "\n"
      ],
      "metadata": {
        "id": "U_AsdTnWPYuA"
      },
      "id": "U_AsdTnWPYuA"
    },
    {
      "cell_type": "code",
      "source": [
        "def square(num):\n",
        "    return num ** 2\n",
        "\n",
        "print(square(2))\n",
        "print(square(4))\n",
        "print(square(10))\n",
        "\n"
      ],
      "metadata": {
        "colab": {
          "base_uri": "https://localhost:8080/"
        },
        "id": "3nd9cmsTPaPM",
        "outputId": "1f56f27c-6c5f-4bd0-a57e-cd9d6e774b1f"
      },
      "id": "3nd9cmsTPaPM",
      "execution_count": 2,
      "outputs": [
        {
          "output_type": "stream",
          "name": "stdout",
          "text": [
            "4\n",
            "16\n",
            "100\n"
          ]
        }
      ]
    },
    {
      "cell_type": "markdown",
      "source": [
        "### Assignment 2: Multiple Arguments\n",
        "\n",
        "Define a function that takes two integers as input and returns their sum. Test the function with different inputs.\n",
        "\n"
      ],
      "metadata": {
        "id": "5ccMjdO-PpVV"
      },
      "id": "5ccMjdO-PpVV"
    },
    {
      "cell_type": "code",
      "source": [
        "def add(a, b):\n",
        "    return a + b\n",
        "\n",
        "print(add(3, 5))\n",
        "print(add(10, 30))\n",
        "print(add(-5, 8))\n"
      ],
      "metadata": {
        "colab": {
          "base_uri": "https://localhost:8080/"
        },
        "id": "NwoLjFJePqM1",
        "outputId": "c322bbf6-18dd-46e7-cb41-7455784ad54e"
      },
      "id": "NwoLjFJePqM1",
      "execution_count": 4,
      "outputs": [
        {
          "output_type": "stream",
          "name": "stdout",
          "text": [
            "8\n",
            "40\n",
            "3\n"
          ]
        }
      ]
    },
    {
      "cell_type": "markdown",
      "source": [
        "### Assignment 3: Default Arguments\n",
        "\n",
        "Define a function that takes two integers as input and returns their sum. The second integer should have a default value of 5. Test the function with different inputs.\n",
        "\n"
      ],
      "metadata": {
        "id": "KzcMH0nHPwaP"
      },
      "id": "KzcMH0nHPwaP"
    },
    {
      "cell_type": "code",
      "source": [
        "def add(a, b=5):\n",
        "    return a + b\n",
        "\n",
        "print(add(3))\n",
        "print(add(10, 2))\n",
        "print(add(7))\n"
      ],
      "metadata": {
        "colab": {
          "base_uri": "https://localhost:8080/"
        },
        "id": "nbAUILWXPxVD",
        "outputId": "c53cdf73-16a2-4476-baa7-7614580142b2"
      },
      "id": "nbAUILWXPxVD",
      "execution_count": 5,
      "outputs": [
        {
          "output_type": "stream",
          "name": "stdout",
          "text": [
            "8\n",
            "12\n",
            "12\n"
          ]
        }
      ]
    },
    {
      "cell_type": "markdown",
      "source": [
        "### Assignment 4: Keyword Arguments\n",
        "\n",
        "Define a function that takes three named arguments: first_name, last_name, and age, and returns a formatted string. Test the function with different inputs.\n",
        "\n"
      ],
      "metadata": {
        "id": "rQNQ5JHqP4JY"
      },
      "id": "rQNQ5JHqP4JY"
    },
    {
      "cell_type": "code",
      "source": [
        "def Full_name(first_name, last_name, age):\n",
        "    return f\"{first_name} {last_name} is {age} years old.\"\n",
        "\n",
        "print(Full_name(first_name=\"tushar\", last_name=\"chandak\", age=23))\n",
        "print(Full_name(first_name=\"vineet\", last_name=\"prasad\", age=22))\n",
        "print(Full_name(first_name=\"shreya\", last_name=\"gupta\", age=24))\n",
        "\n"
      ],
      "metadata": {
        "colab": {
          "base_uri": "https://localhost:8080/"
        },
        "id": "ZPVyk9y4P5Au",
        "outputId": "982417a7-b9f4-4148-ba58-a0e1b1138cf7"
      },
      "id": "ZPVyk9y4P5Au",
      "execution_count": 6,
      "outputs": [
        {
          "output_type": "stream",
          "name": "stdout",
          "text": [
            "tushar chandak is 23 years old.\n",
            "vineet prasad is 22 years old.\n",
            "shreya gupta is 24 years old.\n"
          ]
        }
      ]
    },
    {
      "cell_type": "markdown",
      "source": [
        "### Assignment 5: Variable-length Arguments\n",
        "\n",
        "Define a function that takes a variable number of integer arguments and returns their product. Test the function with different inputs.\n",
        "\n"
      ],
      "metadata": {
        "id": "X2vQDF5rQYnW"
      },
      "id": "X2vQDF5rQYnW"
    },
    {
      "cell_type": "code",
      "source": [
        "def multiply(*numbers):\n",
        "    result = 1\n",
        "    for num in numbers:\n",
        "        result *= num\n",
        "    return result\n",
        "\n",
        "print(multiply(2, 3))\n",
        "print(multiply(1, 2, 3, 5))\n",
        "print(multiply(7))\n",
        "\n"
      ],
      "metadata": {
        "colab": {
          "base_uri": "https://localhost:8080/"
        },
        "id": "x-IonTdLQZUg",
        "outputId": "515d019b-9048-4b2c-cba6-46ba1b3d7473"
      },
      "id": "x-IonTdLQZUg",
      "execution_count": 7,
      "outputs": [
        {
          "output_type": "stream",
          "name": "stdout",
          "text": [
            "6\n",
            "30\n",
            "7\n"
          ]
        }
      ]
    },
    {
      "cell_type": "markdown",
      "source": [
        "### Assignment 6: Nested Functions\n",
        "\n",
        "Define a function that contains another function inside it. The outer function should take two integers as input and return the result of the inner function, which multiplies the two integers. Test the function with different inputs.\n",
        "\n"
      ],
      "metadata": {
        "id": "abfuYR7IQnqN"
      },
      "id": "abfuYR7IQnqN"
    },
    {
      "cell_type": "code",
      "source": [
        "def ofn(a, b):\n",
        "    def ifn(x, y):\n",
        "        return x * y\n",
        "    return ifn(a, b)\n",
        "\n",
        "print(ofn(3, 4))\n",
        "print(ofn(5, 7))\n",
        "print(ofn(8, 2))\n",
        "\n"
      ],
      "metadata": {
        "id": "W6OqaTVfQoaZ",
        "colab": {
          "base_uri": "https://localhost:8080/"
        },
        "outputId": "506cedab-7f0c-4f5a-cb54-da0406332613"
      },
      "id": "W6OqaTVfQoaZ",
      "execution_count": 8,
      "outputs": [
        {
          "output_type": "stream",
          "name": "stdout",
          "text": [
            "12\n",
            "35\n",
            "16\n"
          ]
        }
      ]
    },
    {
      "cell_type": "markdown",
      "source": [
        "### Assignment 7: Returning Multiple Values\n",
        "\n",
        "Define a function that takes a single integer as input and returns the integer squared, cubed, and raised to the power of four. Test the function with different inputs.\n",
        "\n"
      ],
      "metadata": {
        "id": "B4FGp_YtQ3B2"
      },
      "id": "B4FGp_YtQ3B2"
    },
    {
      "cell_type": "code",
      "source": [
        "def powers(n):\n",
        "    return n**2, n**4, n**6\n",
        "\n",
        "print(powers(2))\n"
      ],
      "metadata": {
        "colab": {
          "base_uri": "https://localhost:8080/"
        },
        "id": "j2Pe-S1PQ3vb",
        "outputId": "7be2ad4f-5e1f-4d3a-b57c-82c892b71c8d"
      },
      "id": "j2Pe-S1PQ3vb",
      "execution_count": 10,
      "outputs": [
        {
          "output_type": "stream",
          "name": "stdout",
          "text": [
            "(4, 16, 64)\n"
          ]
        }
      ]
    },
    {
      "cell_type": "markdown",
      "source": [
        "### Assignment 8: Recursive Function\n",
        "\n",
        "Define a recursive function that calculates the factorial of a given number. Test the function with different inputs.\n",
        "\n"
      ],
      "metadata": {
        "id": "JxuEYmf5RAmv"
      },
      "id": "JxuEYmf5RAmv"
    },
    {
      "cell_type": "code",
      "source": [
        "def factorial(n):\n",
        "    if n == 0 or n == 1:\n",
        "        return 1\n",
        "    else:\n",
        "        return n * factorial(n - 1)\n",
        "\n",
        "print(factorial(4))\n"
      ],
      "metadata": {
        "colab": {
          "base_uri": "https://localhost:8080/"
        },
        "id": "mVVt33GmRBmm",
        "outputId": "d45d5d7a-dcfe-4d7d-fbbc-44d09928e7a5"
      },
      "id": "mVVt33GmRBmm",
      "execution_count": 11,
      "outputs": [
        {
          "output_type": "stream",
          "name": "stdout",
          "text": [
            "24\n"
          ]
        }
      ]
    },
    {
      "cell_type": "markdown",
      "source": [
        "### Assignment 9: Lambda Function\n",
        "\n",
        "Define a lambda function that takes two integers as input and returns their sum. Test the lambda function with different inputs.\n",
        "\n"
      ],
      "metadata": {
        "id": "zETMj9vPRbWR"
      },
      "id": "zETMj9vPRbWR"
    },
    {
      "cell_type": "code",
      "source": [
        "add = lambda a, b: a + b\n",
        "\n",
        "print(add(2, -6))\n"
      ],
      "metadata": {
        "colab": {
          "base_uri": "https://localhost:8080/"
        },
        "id": "ReOtEkV2RcS-",
        "outputId": "bf55a634-2fd1-4b85-83ca-d7eec06ffd4f"
      },
      "id": "ReOtEkV2RcS-",
      "execution_count": 12,
      "outputs": [
        {
          "output_type": "stream",
          "name": "stdout",
          "text": [
            "-4\n"
          ]
        }
      ]
    },
    {
      "cell_type": "markdown",
      "source": [
        "### Assignment 10: Map Function\n",
        "\n",
        "Use the map function to apply a lambda function that squares each number in a list of integers. Test with different lists.\n",
        "\n"
      ],
      "metadata": {
        "id": "rFvlrmQbRpOk"
      },
      "id": "rFvlrmQbRpOk"
    },
    {
      "cell_type": "code",
      "source": [
        "numbers = [1, 2, 3, 4, 6]\n",
        "squared = list(map(lambda x: x**2, numbers))\n",
        "print(squared)\n"
      ],
      "metadata": {
        "colab": {
          "base_uri": "https://localhost:8080/"
        },
        "id": "BeQCu01bRp0H",
        "outputId": "b2bfade5-9804-4ee3-a45b-ab2ec2007bd2"
      },
      "id": "BeQCu01bRp0H",
      "execution_count": 13,
      "outputs": [
        {
          "output_type": "stream",
          "name": "stdout",
          "text": [
            "[1, 4, 9, 16, 36]\n"
          ]
        }
      ]
    },
    {
      "cell_type": "markdown",
      "source": [
        "### Assignment 11: Filter Function\n",
        "\n",
        "Use the filter function to filter out all odd numbers from a list of integers. Test with different lists.\n",
        "\n"
      ],
      "metadata": {
        "id": "ml3mO_ApR1Pe"
      },
      "id": "ml3mO_ApR1Pe"
    },
    {
      "cell_type": "code",
      "source": [
        "numbers = [1, 2, 3, 5, 6, 7]\n",
        "evens = list(filter(lambda x: x % 2 == 0, numbers))\n",
        "print(evens)"
      ],
      "metadata": {
        "colab": {
          "base_uri": "https://localhost:8080/"
        },
        "id": "lXDVtkC7R16m",
        "outputId": "5c758c3f-bda4-4ff2-9c36-cb4042204db2"
      },
      "id": "lXDVtkC7R16m",
      "execution_count": 15,
      "outputs": [
        {
          "output_type": "stream",
          "name": "stdout",
          "text": [
            "[2, 6]\n"
          ]
        }
      ]
    },
    {
      "cell_type": "markdown",
      "source": [
        "### Assignment 12: Function Decorator\n",
        "\n",
        "Define a decorator function that prints 'Executing function...' before executing a function and 'Function executed.' after executing it. Apply this decorator to a function that takes a list of integers and returns their sum. Test the decorated function with different lists.\n",
        "\n"
      ],
      "metadata": {
        "id": "v95tq3SVR-Mt"
      },
      "id": "v95tq3SVR-Mt"
    },
    {
      "cell_type": "code",
      "source": [
        "def decorator(func):\n",
        "    def wrapper(*args, **kwargs):\n",
        "        print(\"Executing function...\")\n",
        "        result = func(*args, **kwargs)\n",
        "        print(\"Function executed.\")\n",
        "        return result\n",
        "    return wrapper\n",
        "\n",
        "@decorator\n",
        "def sum_list(numbers):\n",
        "    return sum(numbers)\n",
        "\n",
        "print(sum_list([1, 2, 3]))\n",
        "print(sum_list([10, 20, 30]))\n",
        "print(sum_list([5, 5, 5, 5]))\n"
      ],
      "metadata": {
        "id": "09ibC677R_CZ",
        "colab": {
          "base_uri": "https://localhost:8080/"
        },
        "outputId": "fb220620-413d-496b-b187-d795ed822293"
      },
      "id": "09ibC677R_CZ",
      "execution_count": 16,
      "outputs": [
        {
          "output_type": "stream",
          "name": "stdout",
          "text": [
            "Executing function...\n",
            "Function executed.\n",
            "6\n",
            "Executing function...\n",
            "Function executed.\n",
            "60\n",
            "Executing function...\n",
            "Function executed.\n",
            "20\n"
          ]
        }
      ]
    },
    {
      "cell_type": "markdown",
      "source": [
        "### Assignment 13: Function with *args and **kwargs\n",
        "\n",
        "Define a function that takes variable-length arguments and keyword arguments and prints them. Test the function with different inputs.\n",
        "\n"
      ],
      "metadata": {
        "id": "JjTgSHe9SzpP"
      },
      "id": "JjTgSHe9SzpP"
    },
    {
      "cell_type": "code",
      "source": [
        "def show(*args, **kwargs):\n",
        "    print(\"Args:\", args)\n",
        "    print(\"Kwargs:\", kwargs)\n",
        "\n",
        "show(1, 2, a=8, b=0)\n",
        "show('x', y=3)\n"
      ],
      "metadata": {
        "colab": {
          "base_uri": "https://localhost:8080/"
        },
        "id": "b9xkwT-aS0m2",
        "outputId": "3c0df209-58e0-4603-8b14-8e49da8feb4c"
      },
      "id": "b9xkwT-aS0m2",
      "execution_count": 18,
      "outputs": [
        {
          "output_type": "stream",
          "name": "stdout",
          "text": [
            "Args: (1, 2)\n",
            "Kwargs: {'a': 8, 'b': 0}\n",
            "Args: ('x',)\n",
            "Kwargs: {'y': 3}\n"
          ]
        }
      ]
    },
    {
      "cell_type": "markdown",
      "source": [
        "### Assignment 14: Higher-Order Function\n",
        "\n",
        "Define a higher-order function that takes a function and a list of integers as arguments, and applies the function to each integer in the list. Test with different functions and lists.\n",
        "\n"
      ],
      "metadata": {
        "id": "guXNensMTezo"
      },
      "id": "guXNensMTezo"
    },
    {
      "cell_type": "code",
      "source": [
        "def apply_function(func, numbers):\n",
        "    return [func(x) for x in numbers]\n",
        "\n",
        "def square(n):\n",
        "    return n * n\n",
        "\n",
        "def double(n):\n",
        "    return n * 2\n",
        "\n",
        "print(apply_function(square, [4, 5, 6, 7]))\n",
        "print(apply_function(double, [2, 3, 4]))"
      ],
      "metadata": {
        "id": "2WEPld0NTfv8",
        "colab": {
          "base_uri": "https://localhost:8080/"
        },
        "outputId": "69c9bac7-4c83-44bd-8145-60a82d361dd4"
      },
      "id": "2WEPld0NTfv8",
      "execution_count": 20,
      "outputs": [
        {
          "output_type": "stream",
          "name": "stdout",
          "text": [
            "[16, 25, 36, 49]\n",
            "[4, 6, 8]\n"
          ]
        }
      ]
    },
    {
      "cell_type": "markdown",
      "metadata": {
        "id": "K8Qk7SPsLnuD"
      },
      "source": [
        "### Assignment 15: Function Documentation\n",
        "\n",
        "Define a function with a docstring that explains what the function does, its parameters, and its return value. Print the function's docstring."
      ],
      "id": "K8Qk7SPsLnuD"
    },
    {
      "cell_type": "code",
      "execution_count": 21,
      "metadata": {
        "colab": {
          "base_uri": "https://localhost:8080/"
        },
        "id": "2CjIZ6H9LnuI",
        "outputId": "993d5bde-a4f9-4c58-dc6a-64e40394cd72"
      },
      "outputs": [
        {
          "output_type": "stream",
          "name": "stdout",
          "text": [
            "\n",
            "    Here function takes two numbers\n",
            "\n",
            "    Parameters:\n",
            "    a (int): first num\n",
            "    b (int): second num\n",
            "\n",
            "    Returns:\n",
            "    int: two numbers product\n",
            "    \n"
          ]
        }
      ],
      "source": [
        "def multiply(a, b):\n",
        "    \"\"\"\n",
        "    Here function takes two numbers\n",
        "\n",
        "    Parameters:\n",
        "    a (int): first num\n",
        "    b (int): second num\n",
        "\n",
        "    Returns:\n",
        "    int: two numbers product\n",
        "    \"\"\"\n",
        "    return a * b\n",
        "\n",
        "print(multiply.__doc__)\n"
      ],
      "id": "2CjIZ6H9LnuI"
    }
  ],
  "metadata": {
    "kernelspec": {
      "display_name": "Python 3",
      "language": "python",
      "name": "python3"
    },
    "language_info": {
      "codemirror_mode": {
        "name": "ipython",
        "version": 3
      },
      "file_extension": ".py",
      "mimetype": "text/x-python",
      "name": "python",
      "nbconvert_exporter": "python",
      "pygments_lexer": "ipython3",
      "version": "3.9.7"
    },
    "colab": {
      "provenance": []
    }
  },
  "nbformat": 4,
  "nbformat_minor": 5
}