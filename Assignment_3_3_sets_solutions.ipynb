{
  "cells": [
    {
      "cell_type": "markdown",
      "source": [
        "# Module 3: Data Structures Assignments\n",
        "## Lesson 3.3: Sets\n",
        "### Assignment 1: Creating and Accessing Sets\n",
        "\n",
        "Create a set with the first 10 positive integers. Print the set.\n",
        "\n"
      ],
      "metadata": {
        "id": "CLbWu7a-DbeJ"
      },
      "id": "CLbWu7a-DbeJ"
    },
    {
      "cell_type": "code",
      "source": [
        "numbers_set = set(range(1, 11))\n",
        "print(\"Set:\", numbers_set)\n"
      ],
      "metadata": {
        "colab": {
          "base_uri": "https://localhost:8080/"
        },
        "id": "vAJJ7vsmDegG",
        "outputId": "ed6a4eed-a1c5-4f77-c368-e365e463bcc4"
      },
      "id": "vAJJ7vsmDegG",
      "execution_count": 1,
      "outputs": [
        {
          "output_type": "stream",
          "name": "stdout",
          "text": [
            "Set: {1, 2, 3, 4, 5, 6, 7, 8, 9, 10}\n"
          ]
        }
      ]
    },
    {
      "cell_type": "markdown",
      "source": [
        "### Assignment 2: Adding and Removing Elements\n",
        "\n",
        "Add the number 11 to the set created in Assignment 1. Then remove the number 1 from the set. Print the modified set.\n"
      ],
      "metadata": {
        "id": "FfTLwZ2ZDhqZ"
      },
      "id": "FfTLwZ2ZDhqZ"
    },
    {
      "cell_type": "code",
      "source": [
        "numbers_set = set(range(1, 11))\n",
        "\n",
        "numbers_set.add(11)\n",
        "numbers_set.remove(1)\n",
        "\n",
        "print(\"Modified set:\", numbers_set)\n",
        "\n"
      ],
      "metadata": {
        "colab": {
          "base_uri": "https://localhost:8080/"
        },
        "id": "uAIZYYf0DjtJ",
        "outputId": "bff61c6d-a84f-49b0-b156-06c5127ac9fe"
      },
      "id": "uAIZYYf0DjtJ",
      "execution_count": 2,
      "outputs": [
        {
          "output_type": "stream",
          "name": "stdout",
          "text": [
            "Modified set: {2, 3, 4, 5, 6, 7, 8, 9, 10, 11}\n"
          ]
        }
      ]
    },
    {
      "cell_type": "markdown",
      "source": [
        "### Assignment 3: Set Operations\n",
        "\n",
        "Create two sets: one with the first 5 positive integers and another with the first 5 even integers. Perform and print the results of union, intersection, difference, and symmetric difference operations on these sets.\n"
      ],
      "metadata": {
        "id": "u6BnlHxADnrb"
      },
      "id": "u6BnlHxADnrb"
    },
    {
      "cell_type": "code",
      "source": [
        "a = {1, 2, 3, 4, 5}\n",
        "b = {2, 4, 6, 8, 10}\n",
        "\n",
        "print(\"Union:\", a | b)\n",
        "print(\"Intersection:\", a & b)\n",
        "print(\"Difference (a - b):\", a - b)\n",
        "print(\"Symmetric Difference:\", a ^ b)\n"
      ],
      "metadata": {
        "colab": {
          "base_uri": "https://localhost:8080/"
        },
        "id": "dn0v7FxUD07K",
        "outputId": "57e2a35a-548a-41eb-a248-4b1518d6d50d"
      },
      "id": "dn0v7FxUD07K",
      "execution_count": 3,
      "outputs": [
        {
          "output_type": "stream",
          "name": "stdout",
          "text": [
            "Union: {1, 2, 3, 4, 5, 6, 8, 10}\n",
            "Intersection: {2, 4}\n",
            "Difference (a - b): {1, 3, 5}\n",
            "Symmetric Difference: {1, 3, 5, 6, 8, 10}\n"
          ]
        }
      ]
    },
    {
      "cell_type": "markdown",
      "source": [
        "### Assignment 4: Set Comprehensions\n",
        "\n",
        "Create a new set containing the squares of the first 10 positive integers using a set comprehension. Print the new set.\n",
        "\n"
      ],
      "metadata": {
        "id": "kDwjWWoMD4DM"
      },
      "id": "kDwjWWoMD4DM"
    },
    {
      "cell_type": "code",
      "source": [
        "squares_set = {x**2 for x in range(1, 11)}\n",
        "print(\"Set of squares:\", squares_set)\n",
        "\n"
      ],
      "metadata": {
        "colab": {
          "base_uri": "https://localhost:8080/"
        },
        "id": "HEqArnfCD40n",
        "outputId": "0ea6a5db-d520-47d9-87d8-4c1114a2d306"
      },
      "id": "HEqArnfCD40n",
      "execution_count": 4,
      "outputs": [
        {
          "output_type": "stream",
          "name": "stdout",
          "text": [
            "Set of squares: {64, 1, 4, 36, 100, 9, 16, 49, 81, 25}\n"
          ]
        }
      ]
    },
    {
      "cell_type": "markdown",
      "source": [
        "### Assignment 5: Filtering Sets\n",
        "\n",
        "Create a new set containing only the even numbers from the set created in Assignment 1 using a set comprehension. Print the new set.\n",
        "\n"
      ],
      "metadata": {
        "id": "ZUwtBroyD8D8"
      },
      "id": "ZUwtBroyD8D8"
    },
    {
      "cell_type": "code",
      "source": [
        "s = {1, 2, 3, 4, 5, 6, 7, 8, 9, 10}\n",
        "\n",
        "even_numbers = {x for x in s if x % 2 == 0}\n",
        "\n",
        "print(even_numbers)\n"
      ],
      "metadata": {
        "colab": {
          "base_uri": "https://localhost:8080/"
        },
        "id": "Ivx8QhXaD8x5",
        "outputId": "cbdba20c-3610-48d6-b516-c1d53636499a"
      },
      "id": "Ivx8QhXaD8x5",
      "execution_count": 5,
      "outputs": [
        {
          "output_type": "stream",
          "name": "stdout",
          "text": [
            "{2, 4, 6, 8, 10}\n"
          ]
        }
      ]
    },
    {
      "cell_type": "markdown",
      "source": [
        "### Assignment 6: Set Methods\n",
        "\n",
        "Create a set with duplicate elements and remove the duplicates using set methods. Print the modified set.\n",
        "\n"
      ],
      "metadata": {
        "id": "L2hJxeRxD_UF"
      },
      "id": "L2hJxeRxD_UF"
    },
    {
      "cell_type": "code",
      "source": [
        "a = [1, 2, 2, 3, 4, 4, 5, 5, 6, 7, 7]\n",
        "\n",
        "unique = set(a)\n",
        "\n",
        "print(unique)\n"
      ],
      "metadata": {
        "colab": {
          "base_uri": "https://localhost:8080/"
        },
        "id": "sAjzZnd3EAJI",
        "outputId": "1192e16a-90bc-42d3-c1e9-a901dad0c707"
      },
      "id": "sAjzZnd3EAJI",
      "execution_count": 6,
      "outputs": [
        {
          "output_type": "stream",
          "name": "stdout",
          "text": [
            "{1, 2, 3, 4, 5, 6, 7}\n"
          ]
        }
      ]
    },
    {
      "cell_type": "markdown",
      "source": [
        "### Assignment 7: Subsets and Supersets\n",
        "\n",
        "Create two sets: one with the first 5 positive integers and another with the first 3 positive integers. Check if the second set is a subset of the first set and if the first set is a superset of the second set. Print the results.\n",
        "\n"
      ],
      "metadata": {
        "id": "RxdYKJEIEC7x"
      },
      "id": "RxdYKJEIEC7x"
    },
    {
      "cell_type": "code",
      "source": [
        "set_a = {1, 2, 3, 4, 5}\n",
        "set_b = {1, 2, 3}\n",
        "\n",
        "is_subset = set_b.issubset(set_a)\n",
        "is_superset = set_a.issuperset(set_b)\n",
        "\n",
        "print(\"Set A:\", set_a)\n",
        "print(\"Set B:\", set_b)\n",
        "print(\"Is Set B a subset of Set A?\", is_subset)\n",
        "print(\"Is Set A a superset of Set B?\", is_superset)\n",
        "\n"
      ],
      "metadata": {
        "colab": {
          "base_uri": "https://localhost:8080/"
        },
        "id": "W1C7hKGzEDw8",
        "outputId": "d61ce80f-6724-465e-c4e6-e0c926c4ee93"
      },
      "id": "W1C7hKGzEDw8",
      "execution_count": 8,
      "outputs": [
        {
          "output_type": "stream",
          "name": "stdout",
          "text": [
            "Set A: {1, 2, 3, 4, 5}\n",
            "Set B: {1, 2, 3}\n",
            "Is Set B a subset of Set A? True\n",
            "Is Set A a superset of Set B? True\n"
          ]
        }
      ]
    },
    {
      "cell_type": "markdown",
      "source": [
        "### Assignment 8: Frozenset\n",
        "\n",
        "Create a frozenset with the first 5 positive integers. Print the frozenset.\n",
        "\n"
      ],
      "metadata": {
        "id": "bnYnQ_rPEGSa"
      },
      "id": "bnYnQ_rPEGSa"
    },
    {
      "cell_type": "code",
      "source": [
        "a= frozenset([1, 2, 3, 4, 5])\n",
        "\n",
        "print(a)\n"
      ],
      "metadata": {
        "colab": {
          "base_uri": "https://localhost:8080/"
        },
        "id": "LMGdulGAEHPE",
        "outputId": "5369bd13-25eb-4203-d951-f955b1a15a7e"
      },
      "id": "LMGdulGAEHPE",
      "execution_count": 9,
      "outputs": [
        {
          "output_type": "stream",
          "name": "stdout",
          "text": [
            "frozenset({1, 2, 3, 4, 5})\n"
          ]
        }
      ]
    },
    {
      "cell_type": "markdown",
      "source": [
        "### Assignment 9: Set and List Conversion\n",
        "\n",
        "Create a set with the first 5 positive integers. Convert it to a list, append the number 6, and convert it back to a set. Print the resulting set.\n",
        "\n"
      ],
      "metadata": {
        "id": "DmaTpSEGEKB_"
      },
      "id": "DmaTpSEGEKB_"
    },
    {
      "cell_type": "code",
      "source": [
        "s = {1, 2, 3, 4, 5}\n",
        "\n",
        "lst = list(s)\n",
        "lst.append(6)\n",
        "s = set(lst)\n",
        "\n",
        "print(s)\n"
      ],
      "metadata": {
        "colab": {
          "base_uri": "https://localhost:8080/"
        },
        "id": "YXuSw3Z9EKy4",
        "outputId": "0ff87ec3-6691-4734-d0d0-59efae472806"
      },
      "id": "YXuSw3Z9EKy4",
      "execution_count": 10,
      "outputs": [
        {
          "output_type": "stream",
          "name": "stdout",
          "text": [
            "{1, 2, 3, 4, 5, 6}\n"
          ]
        }
      ]
    },
    {
      "cell_type": "markdown",
      "source": [
        "### Assignment 10: Set and Dictionary\n",
        "\n",
        "Create a dictionary with set keys and integer values. Print the dictionary.\n",
        "\n"
      ],
      "metadata": {
        "id": "Ht_72SxhERFW"
      },
      "id": "Ht_72SxhERFW"
    },
    {
      "cell_type": "code",
      "source": [
        "data = {\n",
        "    frozenset({1, 2}): 100,\n",
        "    frozenset({3, 4}): 200,\n",
        "    frozenset({5}): 300\n",
        "}\n",
        "\n",
        "print(\"Dictionary with frozenset keys:\")\n",
        "for key, value in data.items():\n",
        "    print(key, \":\", value)\n",
        "\n"
      ],
      "metadata": {
        "colab": {
          "base_uri": "https://localhost:8080/"
        },
        "id": "0IJTXqWiESB2",
        "outputId": "e6d91350-a2b3-4f5e-ecad-9a31d264257e"
      },
      "id": "0IJTXqWiESB2",
      "execution_count": 11,
      "outputs": [
        {
          "output_type": "stream",
          "name": "stdout",
          "text": [
            "Dictionary with frozenset keys:\n",
            "frozenset({1, 2}) : 100\n",
            "frozenset({3, 4}) : 200\n",
            "frozenset({5}) : 300\n"
          ]
        }
      ]
    },
    {
      "cell_type": "markdown",
      "source": [
        "### Assignment 11: Iterating Over Sets\n",
        "\n",
        "Create a set and iterate over the elements, printing each element.\n",
        "\n"
      ],
      "metadata": {
        "id": "HZD9ZgOdEV1D"
      },
      "id": "HZD9ZgOdEV1D"
    },
    {
      "cell_type": "code",
      "source": [
        "a = {10, 20, 30, 40, 50}\n",
        "\n",
        "for i in a:\n",
        "    print(i)\n"
      ],
      "metadata": {
        "colab": {
          "base_uri": "https://localhost:8080/"
        },
        "id": "xcBrqvAmEXUw",
        "outputId": "1be15876-ec26-4b54-8e86-76329f6cef10"
      },
      "id": "xcBrqvAmEXUw",
      "execution_count": 12,
      "outputs": [
        {
          "output_type": "stream",
          "name": "stdout",
          "text": [
            "50\n",
            "20\n",
            "40\n",
            "10\n",
            "30\n"
          ]
        }
      ]
    },
    {
      "cell_type": "markdown",
      "source": [
        "### Assignment 12: Removing Elements from Sets\n",
        "\n",
        "Create a set and remove elements from it until it is empty. Print the set after each removal.\n",
        "\n"
      ],
      "metadata": {
        "id": "X7d1WHFyEamJ"
      },
      "id": "X7d1WHFyEamJ"
    },
    {
      "cell_type": "code",
      "source": [
        "items = {10, 20, 30, 40, 50}\n",
        "\n",
        "while items:\n",
        "    removed = items.pop()\n",
        "    print(\"Removed:\", removed)\n",
        "    print(\"Set now:\", items)\n",
        "\n"
      ],
      "metadata": {
        "colab": {
          "base_uri": "https://localhost:8080/"
        },
        "id": "red6oyXyEbe2",
        "outputId": "f96eefd0-a410-40a5-bb44-6a369726c04d"
      },
      "id": "red6oyXyEbe2",
      "execution_count": 13,
      "outputs": [
        {
          "output_type": "stream",
          "name": "stdout",
          "text": [
            "Removed: 50\n",
            "Set now: {20, 40, 10, 30}\n",
            "Removed: 20\n",
            "Set now: {40, 10, 30}\n",
            "Removed: 40\n",
            "Set now: {10, 30}\n",
            "Removed: 10\n",
            "Set now: {30}\n",
            "Removed: 30\n",
            "Set now: set()\n"
          ]
        }
      ]
    },
    {
      "cell_type": "markdown",
      "source": [
        "### Assignment 12: Removing Elements from Sets\n",
        "\n",
        "Create a set and remove elements from it until it is empty. Print the set after each removal.\n",
        "\n"
      ],
      "metadata": {
        "id": "aOuN7hTmEeQ9"
      },
      "id": "aOuN7hTmEeQ9"
    },
    {
      "cell_type": "code",
      "source": [
        "a = {1, 2, 3, 4, 5}\n",
        "\n",
        "while len(a) > 0:\n",
        "    a.pop()\n",
        "    print(a)\n"
      ],
      "metadata": {
        "colab": {
          "base_uri": "https://localhost:8080/"
        },
        "id": "n1NbRmVPEfkX",
        "outputId": "1cda4543-c107-490a-9e3e-09d0ce59cb94"
      },
      "id": "n1NbRmVPEfkX",
      "execution_count": 14,
      "outputs": [
        {
          "output_type": "stream",
          "name": "stdout",
          "text": [
            "{2, 3, 4, 5}\n",
            "{3, 4, 5}\n",
            "{4, 5}\n",
            "{5}\n",
            "set()\n"
          ]
        }
      ]
    },
    {
      "cell_type": "markdown",
      "source": [
        "### Assignment 13: Set Symmetric Difference Update\n",
        "\n",
        "Create two sets and update the first set with the symmetric difference of the two sets. Print the modified first set.\n",
        "\n"
      ],
      "metadata": {
        "id": "gQ1b5w1qEjCP"
      },
      "id": "gQ1b5w1qEjCP"
    },
    {
      "cell_type": "code",
      "source": [
        "a = {1, 2, 3, 4}\n",
        "b = {3, 4, 5, 6}\n",
        "\n",
        "a.symmetric_difference_update(b)\n",
        "\n",
        "print(a)\n"
      ],
      "metadata": {
        "colab": {
          "base_uri": "https://localhost:8080/"
        },
        "id": "Dfmxbz4REj0b",
        "outputId": "c5b61532-6296-4bb7-bdd2-09d0ff4663d8"
      },
      "id": "Dfmxbz4REj0b",
      "execution_count": 15,
      "outputs": [
        {
          "output_type": "stream",
          "name": "stdout",
          "text": [
            "{1, 2, 5, 6}\n"
          ]
        }
      ]
    },
    {
      "cell_type": "markdown",
      "source": [
        "### Assignment 14: Set Membership Testing\n",
        "\n",
        "Create a set and test if certain elements are present in the set. Print the results.\n",
        "\n"
      ],
      "metadata": {
        "id": "XNNFpnzYEmVk"
      },
      "id": "XNNFpnzYEmVk"
    },
    {
      "cell_type": "code",
      "source": [
        "a = {10, 20, 30, 40, 50}\n",
        "\n",
        "print(20 in a)\n",
        "print(60 not in a)\n",
        "print(30 not in a)\n"
      ],
      "metadata": {
        "colab": {
          "base_uri": "https://localhost:8080/"
        },
        "id": "awrTnRlKEoAS",
        "outputId": "61a70e58-d39d-4b6b-a4b4-b2dbfd3e6c1b"
      },
      "id": "awrTnRlKEoAS",
      "execution_count": 16,
      "outputs": [
        {
          "output_type": "stream",
          "name": "stdout",
          "text": [
            "True\n",
            "True\n",
            "False\n"
          ]
        }
      ]
    },
    {
      "cell_type": "markdown",
      "metadata": {
        "id": "2XHBcBVdCMuG"
      },
      "source": [
        "### Assignment 15: Set of Tuples\n",
        "\n",
        "Create a set containing tuples, where each tuple contains two elements. Print the set."
      ],
      "id": "2XHBcBVdCMuG"
    },
    {
      "cell_type": "code",
      "execution_count": 17,
      "metadata": {
        "colab": {
          "base_uri": "https://localhost:8080/"
        },
        "id": "rdlnAmAcCMuL",
        "outputId": "95c22da4-1299-4cc3-8669-c537abf365f4"
      },
      "outputs": [
        {
          "output_type": "stream",
          "name": "stdout",
          "text": [
            "Set of tuples: {(1, 2), (3, 4), (7, 8), (5, 6)}\n"
          ]
        }
      ],
      "source": [
        "pair_set = {\n",
        "    (1, 2),\n",
        "    (3, 4),\n",
        "    (5, 6),\n",
        "    (7, 8)\n",
        "}\n",
        "\n",
        "print(\"Set of tuples:\", pair_set)\n",
        "\n"
      ],
      "id": "rdlnAmAcCMuL"
    }
  ],
  "metadata": {
    "kernelspec": {
      "display_name": "Python 3",
      "language": "python",
      "name": "python3"
    },
    "language_info": {
      "codemirror_mode": {
        "name": "ipython",
        "version": 3
      },
      "file_extension": ".py",
      "mimetype": "text/x-python",
      "name": "python",
      "nbconvert_exporter": "python",
      "pygments_lexer": "ipython3",
      "version": "3.9.7"
    },
    "colab": {
      "provenance": []
    }
  },
  "nbformat": 4,
  "nbformat_minor": 5
}